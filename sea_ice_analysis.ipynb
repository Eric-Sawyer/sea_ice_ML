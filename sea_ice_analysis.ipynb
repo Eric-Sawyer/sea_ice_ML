{
 "cells": [
  {
   "cell_type": "markdown",
   "metadata": {},
   "source": [
    "first let's test things!"
   ]
  },
  {
   "cell_type": "code",
   "execution_count": 266,
   "metadata": {},
   "outputs": [],
   "source": [
    "import numpy as np\n",
    "import matplotlib.pyplot as plt\n",
    "import sklearn as sk\n",
    "from sklearn.metrics import accuracy_score, confusion_matrix\n",
    "from sklearn import model_selection\n",
    "from sklearn.metrics import confusion_matrix\n",
    "from sklearn.utils import resample\n",
    "import pandas as pd\n",
    "import seaborn as sns\n",
    "plt.rcParams['figure.figsize'] = [6, 6]\n",
    "%matplotlib widget\n",
    "from PIL import Image\n",
    "from tensorflow import keras\n",
    "import warnings\n",
    "from scipy import stats"
   ]
  },
  {
   "cell_type": "code",
   "execution_count": 2,
   "metadata": {},
   "outputs": [],
   "source": [
    "# load the satelite images as well as the targets: the ice concentrations and types ('stage')\n",
    "# separate folder for each month's data\n",
    "rgb={}\n",
    "conc={}\n",
    "stage={}\n",
    "for i in range(1,13):\n",
    "    rgb[i]=np.asarray(Image.open(str(i)+'/rgb.png'))[:,:,:3] # don't need the transparency value of the png\n",
    "    stage[i]=np.asarray(Image.open(str(i)+'/stage.png'))[:,:,:3]\n",
    "    conc[i]=np.asarray(Image.open(str(i)+'/conc.png'))[:,:,:3]"
   ]
  },
  {
   "cell_type": "code",
   "execution_count": 541,
   "metadata": {},
   "outputs": [
    {
     "data": {
      "application/vnd.jupyter.widget-view+json": {
       "model_id": "46ea44c0e6bd4160a76dfe116b6ee17e",
       "version_major": 2,
       "version_minor": 0
      },
      "text/plain": [
       "Canvas(toolbar=Toolbar(toolitems=[('Home', 'Reset original view', 'home', 'home'), ('Back', 'Back to previous …"
      ]
     },
     "metadata": {},
     "output_type": "display_data"
    },
    {
     "data": {
      "text/plain": [
       "<matplotlib.image.AxesImage at 0x1ee0be612e0>"
      ]
     },
     "execution_count": 541,
     "metadata": {},
     "output_type": "execute_result"
    }
   ],
   "source": [
    "plt.figure()\n",
    "plt.imshow(rgb[6])"
   ]
  },
  {
   "cell_type": "code",
   "execution_count": 4,
   "metadata": {},
   "outputs": [],
   "source": [
    "plt.close('all')"
   ]
  },
  {
   "cell_type": "code",
   "execution_count": 540,
   "metadata": {},
   "outputs": [
    {
     "data": {
      "application/vnd.jupyter.widget-view+json": {
       "model_id": "3bc146b3290541bfbfec0fdd36fbc475",
       "version_major": 2,
       "version_minor": 0
      },
      "text/plain": [
       "Canvas(toolbar=Toolbar(toolitems=[('Home', 'Reset original view', 'home', 'home'), ('Back', 'Back to previous …"
      ]
     },
     "metadata": {},
     "output_type": "display_data"
    },
    {
     "data": {
      "text/plain": [
       "<matplotlib.image.AxesImage at 0x1ee0a949850>"
      ]
     },
     "execution_count": 540,
     "metadata": {},
     "output_type": "execute_result"
    }
   ],
   "source": [
    "plt.figure()\n",
    "plt.imshow(conc[6])"
   ]
  },
  {
   "cell_type": "code",
   "execution_count": 35,
   "metadata": {},
   "outputs": [],
   "source": [
    "indices = np.moveaxis(np.indices(rgb[6].shape)[0:2,:,:,0], 0, 2)\n",
    "allArray = np.dstack((indices, rgb[6])).reshape((-1, 5))\n",
    "targetarray = np.dstack((indices, conc[6])).reshape((-1, 5))\n",
    "data = pd.DataFrame(allArray, columns=['y', 'x', 'red','green','blue'])\n",
    "targetDF = pd.DataFrame(targetarray, columns=['y', 'x', 'red','green','blue'])"
   ]
  },
  {
   "cell_type": "code",
   "execution_count": 36,
   "metadata": {},
   "outputs": [
    {
     "name": "stdout",
     "output_type": "stream",
     "text": [
      "(8697360, 5)\n",
      "(8697360, 5)\n"
     ]
    }
   ],
   "source": [
    "print(data.shape)\n",
    "print(targetDF.shape)"
   ]
  },
  {
   "cell_type": "code",
   "execution_count": 37,
   "metadata": {},
   "outputs": [],
   "source": [
    "forbiddencolors=np.array(((135,135,135),(79,255,99),(255,255,255),(0,0,0)))\n",
    "colorlabels=['cyan','green','yellow','offyellow','orange','red','white','gray']\n",
    "colors=np.array(((0,233,233),(57,163,73),(255,251,7),(252,215,0),(255,128,1),(227,26,28),(255,255,255),(135,135,135)))"
   ]
  },
  {
   "cell_type": "code",
   "execution_count": 38,
   "metadata": {
    "scrolled": true
   },
   "outputs": [],
   "source": [
    "datamatch=pd.Series(np.ones(len(data), dtype=bool))\n",
    "targetcolormatch=pd.Series(np.zeros(len(data), dtype=bool))\n",
    "for i in range(0,len(forbiddencolors)):\n",
    "    datamatch=datamatch&(~((data.loc[:,'red']==forbiddencolors[i,0])&(data.loc[:,'green']==forbiddencolors[i,1])&(data.loc[:,'blue']==forbiddencolors[i,2])))\n",
    "for i in range(0,len(colors)):\n",
    "    targetcolormatch=targetcolormatch|((targetDF.loc[:,'red']==colors[i,0])&(targetDF.loc[:,'green']==colors[i,1])&(targetDF.loc[:,'blue']==colors[i,2]))\n",
    "fullmatch=datamatch & targetcolormatch\n",
    "cleandata=data.loc[fullmatch,:]\n",
    "cleantargets=targetDF.loc[fullmatch,:]"
   ]
  },
  {
   "cell_type": "code",
   "execution_count": 39,
   "metadata": {},
   "outputs": [
    {
     "name": "stdout",
     "output_type": "stream",
     "text": [
      "(2159549, 5)\n",
      "(2159549, 5)\n"
     ]
    }
   ],
   "source": [
    "print(cleandata.shape)\n",
    "print(cleantargets.shape)"
   ]
  },
  {
   "cell_type": "code",
   "execution_count": 40,
   "metadata": {},
   "outputs": [],
   "source": [
    "#repopulate the picture with only the data shown\n",
    "newpic=np.zeros(rgb[1].shape)\n",
    "newpic[cleandata.y,cleandata.x,0]=cleandata.red\n",
    "newpic[cleandata.y,cleandata.x,1]=cleandata.green\n",
    "newpic[cleandata.y,cleandata.x,2]=cleandata.blue"
   ]
  },
  {
   "cell_type": "code",
   "execution_count": 41,
   "metadata": {},
   "outputs": [
    {
     "data": {
      "application/vnd.jupyter.widget-view+json": {
       "model_id": "ba7b87614be54cbdbdc4a767f895e410",
       "version_major": 2,
       "version_minor": 0
      },
      "text/plain": [
       "Canvas(toolbar=Toolbar(toolitems=[('Home', 'Reset original view', 'home', 'home'), ('Back', 'Back to previous …"
      ]
     },
     "metadata": {},
     "output_type": "display_data"
    },
    {
     "data": {
      "text/plain": [
       "<matplotlib.image.AxesImage at 0x1ecf74f2d00>"
      ]
     },
     "execution_count": 41,
     "metadata": {},
     "output_type": "execute_result"
    }
   ],
   "source": [
    "plt.figure()\n",
    "plt.imshow(newpic.astype(int))"
   ]
  },
  {
   "cell_type": "code",
   "execution_count": 42,
   "metadata": {},
   "outputs": [],
   "source": [
    "target=pd.DataFrame({'y':cleantargets.y,'x':cleantargets.x,'target':np.zeros(len(cleandata))})\n",
    "for i in range(0,len(colors)):\n",
    "    target.loc[(cleantargets.loc[:,'red']==colors[i,0])&(cleantargets.loc[:,'green']==colors[i,1])&(cleantargets.loc[:,'blue']==colors[i,2]),'target']=i"
   ]
  },
  {
   "cell_type": "code",
   "execution_count": 43,
   "metadata": {},
   "outputs": [
    {
     "data": {
      "text/plain": [
       "array([7., 6., 5., 2., 3., 1., 4., 0.])"
      ]
     },
     "execution_count": 43,
     "metadata": {},
     "output_type": "execute_result"
    }
   ],
   "source": [
    "target.target.unique()"
   ]
  },
  {
   "cell_type": "code",
   "execution_count": 44,
   "metadata": {},
   "outputs": [],
   "source": [
    "x_train_all, x_validate, y_train_all, y_validate = model_selection.train_test_split(cleandata.loc[:,'red':'blue'], target.target, test_size=0.1)\n",
    "\n",
    "# now split the training data further into training and testing\n",
    "x_train, x_test, y_train, y_test = model_selection.train_test_split(x_train_all, y_train_all, test_size=0.2)"
   ]
  },
  {
   "cell_type": "code",
   "execution_count": 45,
   "metadata": {},
   "outputs": [
    {
     "name": "stdout",
     "output_type": "stream",
     "text": [
      "0.7444812319438978\n"
     ]
    }
   ],
   "source": [
    "from sklearn.naive_bayes import GaussianNB\n",
    "gnb = GaussianNB()\n",
    "modelGNB=gnb.fit(x_train, y_train)\n",
    "y_pred = modelGNB.predict(x_test)\n",
    "score = accuracy_score(y_test, y_pred)\n",
    "print(score)"
   ]
  },
  {
   "cell_type": "code",
   "execution_count": 46,
   "metadata": {},
   "outputs": [
    {
     "data": {
      "application/vnd.jupyter.widget-view+json": {
       "model_id": "3259d37a3f96473385a6aa94690c0c34",
       "version_major": 2,
       "version_minor": 0
      },
      "text/plain": [
       "Canvas(toolbar=Toolbar(toolitems=[('Home', 'Reset original view', 'home', 'home'), ('Back', 'Back to previous …"
      ]
     },
     "metadata": {},
     "output_type": "display_data"
    },
    {
     "data": {
      "text/plain": [
       "Text(0.5, 23.52222222222222, 'predicted label')"
      ]
     },
     "execution_count": 46,
     "metadata": {},
     "output_type": "execute_result"
    }
   ],
   "source": [
    "plt.figure()\n",
    "mat = confusion_matrix(y_test, y_pred)\n",
    "sns.heatmap(mat, annot=True, fmt='d', cbar=True) \n",
    "plt.ylabel('true label')\n",
    "plt.xlabel('predicted label')"
   ]
  },
  {
   "cell_type": "code",
   "execution_count": 47,
   "metadata": {},
   "outputs": [
    {
     "data": {
      "text/plain": [
       "5.0    1015395\n",
       "7.0     892624\n",
       "6.0     148025\n",
       "4.0      43952\n",
       "0.0      25780\n",
       "2.0      13341\n",
       "1.0      10349\n",
       "3.0      10083\n",
       "Name: target, dtype: int64"
      ]
     },
     "execution_count": 47,
     "metadata": {},
     "output_type": "execute_result"
    }
   ],
   "source": [
    "target.target.value_counts()"
   ]
  },
  {
   "cell_type": "code",
   "execution_count": 48,
   "metadata": {
    "scrolled": true
   },
   "outputs": [],
   "source": [
    "# resample the data to rebalance the classes\n",
    "nsamp=np.min(target.target.value_counts())\n",
    "dataresampledmat=np.zeros((nsamp,5,len(target.target.unique())))\n",
    "targetresampledmat=np.zeros((nsamp,3,len(target.target.unique())))\n",
    "for targ in target.target.unique():\n",
    "    dataresampledmat[:,:,int(targ)],targetresampledmat[:,:,int(targ)]=resample(cleandata.loc[target.target==targ,:],target.loc[target.target==targ,:],n_samples=nsamp)\n",
    "dataresampled=pd.DataFrame(np.hstack(dataresampledmat.transpose()).transpose(), columns=['y', 'x', 'red','green','blue'])\n",
    "targetresampled=pd.DataFrame(np.hstack(targetresampledmat.transpose()).transpose(), columns=['y', 'x', 'target'])"
   ]
  },
  {
   "cell_type": "code",
   "execution_count": 49,
   "metadata": {},
   "outputs": [
    {
     "data": {
      "text/plain": [
       "0.0    10083\n",
       "4.0    10083\n",
       "3.0    10083\n",
       "1.0    10083\n",
       "7.0    10083\n",
       "2.0    10083\n",
       "5.0    10083\n",
       "6.0    10083\n",
       "Name: target, dtype: int64"
      ]
     },
     "execution_count": 49,
     "metadata": {},
     "output_type": "execute_result"
    }
   ],
   "source": [
    "targetresampled.target.value_counts()"
   ]
  },
  {
   "cell_type": "code",
   "execution_count": 50,
   "metadata": {},
   "outputs": [],
   "source": [
    "x_train_all, x_validate, y_train_all, y_validate = model_selection.train_test_split(dataresampled.loc[:,'red':'blue'], targetresampled.target, test_size=0.1)\n",
    "# now split the training data further into training and testing\n",
    "x_train, x_test, y_train, y_test = model_selection.train_test_split(x_train_all, y_train_all, test_size=0.2)"
   ]
  },
  {
   "cell_type": "code",
   "execution_count": 51,
   "metadata": {},
   "outputs": [
    {
     "name": "stdout",
     "output_type": "stream",
     "text": [
      "0.3082644628099174\n"
     ]
    }
   ],
   "source": [
    "gnb = GaussianNB()\n",
    "modelGNB=gnb.fit(x_train, y_train)\n",
    "y_pred = modelGNB.predict(x_test)\n",
    "score = accuracy_score(y_test, y_pred)\n",
    "print(score)"
   ]
  },
  {
   "cell_type": "code",
   "execution_count": 52,
   "metadata": {},
   "outputs": [
    {
     "data": {
      "application/vnd.jupyter.widget-view+json": {
       "model_id": "3cf8bbf7120b49e9bb2bd3a8584ebcf9",
       "version_major": 2,
       "version_minor": 0
      },
      "text/plain": [
       "Canvas(toolbar=Toolbar(toolitems=[('Home', 'Reset original view', 'home', 'home'), ('Back', 'Back to previous …"
      ]
     },
     "metadata": {},
     "output_type": "display_data"
    },
    {
     "data": {
      "text/plain": [
       "Text(0.5, 23.52222222222222, 'predicted label')"
      ]
     },
     "execution_count": 52,
     "metadata": {},
     "output_type": "execute_result"
    }
   ],
   "source": [
    "plt.figure()\n",
    "mat = confusion_matrix(y_test, y_pred)\n",
    "sns.heatmap(mat, annot=True, fmt='d', cbar=True) \n",
    "plt.ylabel('true label')\n",
    "plt.xlabel('predicted label')"
   ]
  },
  {
   "cell_type": "code",
   "execution_count": 53,
   "metadata": {},
   "outputs": [
    {
     "data": {
      "text/plain": [
       "37"
      ]
     },
     "execution_count": 53,
     "metadata": {},
     "output_type": "execute_result"
    }
   ],
   "source": [
    "#Decision tree\n",
    "from sklearn import tree\n",
    "clfTree=tree.DecisionTreeClassifier()\n",
    "model=clfTree.fit(x_train,y_train)\n",
    "clfTree.get_depth()"
   ]
  },
  {
   "cell_type": "code",
   "execution_count": 54,
   "metadata": {
    "scrolled": false
   },
   "outputs": [
    {
     "data": {
      "application/vnd.jupyter.widget-view+json": {
       "model_id": "d30798210007456797409b155005a7c1",
       "version_major": 2,
       "version_minor": 0
      },
      "text/plain": [
       "Canvas(toolbar=Toolbar(toolitems=[('Home', 'Reset original view', 'home', 'home'), ('Back', 'Back to previous …"
      ]
     },
     "metadata": {},
     "output_type": "display_data"
    }
   ],
   "source": [
    "# visualize the tree that was created\n",
    "plt.figure(figsize=(33,5))\n",
    "tree.plot_tree(model,max_depth=3,filled=True,fontsize=6,feature_names=['red','green','blue'])\n",
    "plt.tight_layout()"
   ]
  },
  {
   "cell_type": "code",
   "execution_count": 55,
   "metadata": {},
   "outputs": [
    {
     "name": "stdout",
     "output_type": "stream",
     "text": [
      "0.5713498622589531\n"
     ]
    }
   ],
   "source": [
    "y_pred = model.predict(x_test)\n",
    "score = accuracy_score(y_test, y_pred)\n",
    "print(score)"
   ]
  },
  {
   "cell_type": "code",
   "execution_count": 56,
   "metadata": {},
   "outputs": [
    {
     "name": "stdout",
     "output_type": "stream",
     "text": [
      "0.5648017810982375 , 0.007231785808246094\n"
     ]
    }
   ],
   "source": [
    "scores=model_selection.cross_val_score(clfTree, x_train, y_train, cv=10)\n",
    "print(scores.mean(),',',scores.std())"
   ]
  },
  {
   "cell_type": "code",
   "execution_count": 57,
   "metadata": {},
   "outputs": [],
   "source": [
    "from sklearn.ensemble import RandomForestClassifier\n",
    "RFclf=RandomForestClassifier(max_depth=30,n_estimators=1000)\n",
    "#datafilter=np.random.choice(a=[False, True], size= len(y_train), p=[0.98, 0.02])\n",
    "modelRF=RFclf.fit(x_train,y_train)"
   ]
  },
  {
   "cell_type": "code",
   "execution_count": 58,
   "metadata": {},
   "outputs": [],
   "source": [
    "y_pred = modelRF.predict(x_test)"
   ]
  },
  {
   "cell_type": "code",
   "execution_count": 59,
   "metadata": {
    "scrolled": true
   },
   "outputs": [
    {
     "name": "stdout",
     "output_type": "stream",
     "text": [
      "0.5815426997245179\n"
     ]
    }
   ],
   "source": [
    "score = accuracy_score(y_test, y_pred)\n",
    "print(score)"
   ]
  },
  {
   "cell_type": "code",
   "execution_count": 60,
   "metadata": {},
   "outputs": [
    {
     "data": {
      "application/vnd.jupyter.widget-view+json": {
       "model_id": "9c3d1f42cd004927b5e3c59b439aa90a",
       "version_major": 2,
       "version_minor": 0
      },
      "text/plain": [
       "Canvas(toolbar=Toolbar(toolitems=[('Home', 'Reset original view', 'home', 'home'), ('Back', 'Back to previous …"
      ]
     },
     "metadata": {},
     "output_type": "display_data"
    },
    {
     "data": {
      "text/plain": [
       "Text(0.5, 23.52222222222222, 'predicted label')"
      ]
     },
     "execution_count": 60,
     "metadata": {},
     "output_type": "execute_result"
    }
   ],
   "source": [
    "plt.figure()\n",
    "mat = confusion_matrix(y_test, y_pred)\n",
    "sns.heatmap(mat, annot=True, fmt='d', cbar=True) \n",
    "plt.ylabel('true label')\n",
    "plt.xlabel('predicted label')"
   ]
  },
  {
   "cell_type": "code",
   "execution_count": 61,
   "metadata": {},
   "outputs": [
    {
     "data": {
      "text/plain": [
       "'orange'"
      ]
     },
     "execution_count": 61,
     "metadata": {},
     "output_type": "execute_result"
    }
   ],
   "source": [
    "colorlabels[4]"
   ]
  },
  {
   "cell_type": "code",
   "execution_count": 163,
   "metadata": {},
   "outputs": [
    {
     "data": {
      "text/plain": [
       "array([[[[ nan,  nan,  nan, ...,  nan,  nan,  nan],\n",
       "         [ nan,  nan,  nan, ...,  nan,  nan,  nan],\n",
       "         [ nan,  nan,  nan, ...,  nan,  nan,  nan]],\n",
       "\n",
       "        [[ nan,  nan,  nan, ...,  nan,  nan,  nan],\n",
       "         [ nan,  nan,  nan, ...,  nan,  nan,  nan],\n",
       "         [ nan,  nan,  nan, ...,  nan,  nan,  nan]],\n",
       "\n",
       "        [[ nan,  nan,  nan, ...,  nan,  nan,  nan],\n",
       "         [ nan,  nan,  nan, ...,  nan,  nan,  nan],\n",
       "         [ nan,  nan,  nan, ...,  nan,  nan,  nan]],\n",
       "\n",
       "        ...,\n",
       "\n",
       "        [[ nan,  nan,  nan, ...,  nan,  nan,  nan],\n",
       "         [ nan,  nan,  nan, ...,  nan,  nan,  nan],\n",
       "         [ nan,  nan,  nan, ...,  nan,  nan,  nan]],\n",
       "\n",
       "        [[ nan,  nan,  nan, ..., 212.,  nan,  nan],\n",
       "         [ nan,  nan,  nan, ..., 255.,  nan,  nan],\n",
       "         [ nan,  nan,  nan, ..., 216.,  nan,  nan]],\n",
       "\n",
       "        [[ nan,  nan,  nan, ...,  nan,  nan,  nan],\n",
       "         [ nan,  nan,  nan, ...,  nan,  nan,  nan],\n",
       "         [ nan,  nan,  nan, ...,  nan,  nan,  nan]]],\n",
       "\n",
       "\n",
       "       [[[ nan,  nan,  nan, ...,  nan,  nan,  nan],\n",
       "         [ nan,  nan,  nan, ...,  nan,  nan,  nan],\n",
       "         [ nan,  nan,  nan, ...,  nan,  nan,  nan]],\n",
       "\n",
       "        [[ nan,  nan,  nan, ...,  nan,  nan,  nan],\n",
       "         [ nan,  nan,  nan, ...,  nan,  nan,  nan],\n",
       "         [ nan,  nan,  nan, ...,  nan,  nan,  nan]],\n",
       "\n",
       "        [[ nan,  nan,  nan, ...,  nan,  nan,  nan],\n",
       "         [ nan,  nan,  nan, ...,  nan,  nan,  nan],\n",
       "         [ nan,  nan,  nan, ...,  nan,  nan,  nan]],\n",
       "\n",
       "        ...,\n",
       "\n",
       "        [[ nan,  nan,  nan, ...,  nan,  nan,  nan],\n",
       "         [ nan,  nan,  nan, ...,  nan,  nan,  nan],\n",
       "         [ nan,  nan,  nan, ...,  nan,  nan,  nan]],\n",
       "\n",
       "        [[ nan,  nan,  nan, ...,  nan, 212.,  nan],\n",
       "         [ nan,  nan,  nan, ...,  nan, 255.,  nan],\n",
       "         [ nan,  nan,  nan, ...,  nan, 216.,  nan]],\n",
       "\n",
       "        [[ nan,  nan,  nan, ..., 232.,  nan,  nan],\n",
       "         [ nan,  nan,  nan, ..., 255.,  nan,  nan],\n",
       "         [ nan,  nan,  nan, ..., 235.,  nan,  nan]]],\n",
       "\n",
       "\n",
       "       [[[ nan,  nan,  nan, ..., 163.,  nan,  nan],\n",
       "         [ nan,  nan,  nan, ..., 255.,  nan,  nan],\n",
       "         [ nan,  nan,  nan, ..., 174.,  nan,  nan]],\n",
       "\n",
       "        [[ nan,  nan,  nan, ...,  nan,  nan,  nan],\n",
       "         [ nan,  nan,  nan, ...,  nan,  nan,  nan],\n",
       "         [ nan,  nan,  nan, ...,  nan,  nan,  nan]],\n",
       "\n",
       "        [[ nan,  nan,  nan, ...,  nan,  nan,  nan],\n",
       "         [ nan,  nan,  nan, ...,  nan,  nan,  nan],\n",
       "         [ nan,  nan,  nan, ...,  nan,  nan,  nan]],\n",
       "\n",
       "        ...,\n",
       "\n",
       "        [[114.,  nan,  nan, ...,  nan,  nan,  nan],\n",
       "         [255.,  nan,  nan, ...,  nan,  nan,  nan],\n",
       "         [130.,  nan,  nan, ...,  nan,  nan,  nan]],\n",
       "\n",
       "        [[ nan,  nan,  nan, ...,  nan,  nan, 212.],\n",
       "         [ nan,  nan,  nan, ...,  nan,  nan, 255.],\n",
       "         [ nan,  nan,  nan, ...,  nan,  nan, 216.]],\n",
       "\n",
       "        [[ nan,  nan,  nan, ...,  nan, 232.,  nan],\n",
       "         [ nan,  nan,  nan, ...,  nan, 255.,  nan],\n",
       "         [ nan,  nan,  nan, ...,  nan, 235.,  nan]]],\n",
       "\n",
       "\n",
       "       ...,\n",
       "\n",
       "\n",
       "       [[[ nan,  nan,  nan, ...,  nan,  nan,  nan],\n",
       "         [ nan,  nan,  nan, ...,  nan,  nan,  nan],\n",
       "         [ nan,  nan,  nan, ...,  nan,  nan,  nan]],\n",
       "\n",
       "        [[ nan,  nan,  nan, ...,  nan,  nan,  nan],\n",
       "         [ nan,  nan,  nan, ...,  nan,  nan,  nan],\n",
       "         [ nan,  nan,  nan, ...,  nan,  nan,  nan]],\n",
       "\n",
       "        [[ nan,  nan,  nan, ...,  nan,  nan,  nan],\n",
       "         [ nan,  nan,  nan, ...,  nan,  nan,  nan],\n",
       "         [ nan,  nan,  nan, ...,  nan,  nan,  nan]],\n",
       "\n",
       "        ...,\n",
       "\n",
       "        [[ nan,  nan,  nan, ...,  nan,  nan,  nan],\n",
       "         [ nan,  nan,  nan, ...,  nan,  nan,  nan],\n",
       "         [ nan,  nan,  nan, ...,  nan,  nan,  nan]],\n",
       "\n",
       "        [[ nan,  nan,  nan, ...,  nan,  nan,  nan],\n",
       "         [ nan,  nan,  nan, ...,  nan,  nan,  nan],\n",
       "         [ nan,  nan,  nan, ...,  nan,  nan,  nan]],\n",
       "\n",
       "        [[ nan,  nan,  nan, ...,  nan,  nan,  nan],\n",
       "         [ nan,  nan,  nan, ...,  nan,  nan,  nan],\n",
       "         [ nan,  nan,  nan, ...,  nan,  nan,  nan]]],\n",
       "\n",
       "\n",
       "       [[[ nan,  nan,  nan, ...,  nan,  nan,  nan],\n",
       "         [ nan,  nan,  nan, ...,  nan,  nan,  nan],\n",
       "         [ nan,  nan,  nan, ...,  nan,  nan,  nan]],\n",
       "\n",
       "        [[ nan,  nan,  nan, ...,  nan,  nan,  nan],\n",
       "         [ nan,  nan,  nan, ...,  nan,  nan,  nan],\n",
       "         [ nan,  nan,  nan, ...,  nan,  nan,  nan]],\n",
       "\n",
       "        [[ nan,  nan,  nan, ...,  nan,  nan,  nan],\n",
       "         [ nan,  nan,  nan, ...,  nan,  nan,  nan],\n",
       "         [ nan,  nan,  nan, ...,  nan,  nan,  nan]],\n",
       "\n",
       "        ...,\n",
       "\n",
       "        [[ nan,  nan,  nan, ...,  nan,  nan,  nan],\n",
       "         [ nan,  nan,  nan, ...,  nan,  nan,  nan],\n",
       "         [ nan,  nan,  nan, ...,  nan,  nan,  nan]],\n",
       "\n",
       "        [[ nan,  nan,  nan, ...,  nan,  nan,  nan],\n",
       "         [ nan,  nan,  nan, ...,  nan,  nan,  nan],\n",
       "         [ nan,  nan,  nan, ...,  nan,  nan,  nan]],\n",
       "\n",
       "        [[ nan,  nan,  nan, ...,  nan,  nan,  nan],\n",
       "         [ nan,  nan,  nan, ...,  nan,  nan,  nan],\n",
       "         [ nan,  nan,  nan, ...,  nan,  nan,  nan]]],\n",
       "\n",
       "\n",
       "       [[[ nan,  nan,  nan, ...,  nan,  nan,  nan],\n",
       "         [ nan,  nan,  nan, ...,  nan,  nan,  nan],\n",
       "         [ nan,  nan,  nan, ...,  nan,  nan,  nan]],\n",
       "\n",
       "        [[ nan,  nan,  nan, ...,  nan,  nan,  nan],\n",
       "         [ nan,  nan,  nan, ...,  nan,  nan,  nan],\n",
       "         [ nan,  nan,  nan, ...,  nan,  nan,  nan]],\n",
       "\n",
       "        [[ nan,  nan,  nan, ...,  nan,  nan,  nan],\n",
       "         [ nan,  nan,  nan, ...,  nan,  nan,  nan],\n",
       "         [ nan,  nan,  nan, ...,  nan,  nan,  nan]],\n",
       "\n",
       "        ...,\n",
       "\n",
       "        [[ nan,  nan,  nan, ...,  nan,  nan,  nan],\n",
       "         [ nan,  nan,  nan, ...,  nan,  nan,  nan],\n",
       "         [ nan,  nan,  nan, ...,  nan,  nan,  nan]],\n",
       "\n",
       "        [[ nan,  nan,  nan, ...,  nan,  nan,  nan],\n",
       "         [ nan,  nan,  nan, ...,  nan,  nan,  nan],\n",
       "         [ nan,  nan,  nan, ...,  nan,  nan,  nan]],\n",
       "\n",
       "        [[ nan,  nan,  nan, ...,  nan,  nan,  nan],\n",
       "         [ nan,  nan,  nan, ...,  nan,  nan,  nan],\n",
       "         [ nan,  nan,  nan, ...,  nan,  nan,  nan]]]])"
      ]
     },
     "execution_count": 163,
     "metadata": {},
     "output_type": "execute_result"
    }
   ],
   "source": [
    "testmat"
   ]
  },
  {
   "cell_type": "markdown",
   "metadata": {},
   "source": [
    "now want to combine all data and also add more features:\n",
    "neighboring pixel values\n",
    "mean of nearby pixels\n",
    "std of nearby pixels"
   ]
  },
  {
   "cell_type": "code",
   "execution_count": 171,
   "metadata": {},
   "outputs": [
    {
     "name": "stdout",
     "output_type": "stream",
     "text": [
      "Processing Image 1\n",
      "Processing Image 2\n",
      "Processing Image 5\n",
      "Processing Image 6\n",
      "Processing Image 8\n",
      "Processing Image 9\n",
      "Processing Image 10\n",
      "Processing Image 4\n",
      "Processing Image 12\n"
     ]
    }
   ],
   "source": [
    "# now combine all training observations, test observation, and process validation observation\n",
    "trainingN=[1,2,5,6,8,9,10]\n",
    "testingN=[4]\n",
    "valN=[12]\n",
    "obs=trainingN.copy()\n",
    "obs.extend(testingN)\n",
    "obs.extend(valN)\n",
    "cleandata_train_all=pd.DataFrame()\n",
    "target_train_all=pd.DataFrame()\n",
    "cleandata_test_all=pd.DataFrame()\n",
    "target_test_all=pd.DataFrame()\n",
    "cleandata_val_all=pd.DataFrame()\n",
    "target_val_all=pd.DataFrame()\n",
    "warnings.filterwarnings(\"ignore\", message='Degrees of freedom <= 0 for slice.')\n",
    "warnings.filterwarnings(\"ignore\", message='Mean of empty slice')\n",
    "for j in obs:\n",
    "    print('Processing Image '+str(j))\n",
    "    # set forbidden colors to nan\n",
    "    data_nans=rgb[j].copy().astype(float)\n",
    "    for i in range(0,len(forbiddencolors)):\n",
    "        colormat=np.zeros(rgb[j].shape)\n",
    "        colormat[:,:,:]=forbiddencolors[i,:]\n",
    "        data_nans[np.sum(np.abs(colormat-rgb[j]),axis=2)==0,:]=np.nan\n",
    "    #calculate nearby mean and std for each pixel\n",
    "    testmat=np.zeros((rgb[j].shape[0],rgb[j].shape[1],3,25))\n",
    "    pixel=0\n",
    "    for x in range(-2,3):\n",
    "        for y in range(-2,3):\n",
    "            mat=np.roll(data_nans[:,:,0],x,axis=1)\n",
    "            testmat[:,:,0,pixel]=np.roll(mat,y,axis=0)\n",
    "            mat=np.roll(data_nans[:,:,1],x,axis=1)\n",
    "            testmat[:,:,1,pixel]=np.roll(mat,y,axis=0)\n",
    "            mat=np.roll(data_nans[:,:,2],x,axis=1)\n",
    "            testmat[:,:,2,pixel]=np.roll(mat,y,axis=0)\n",
    "            pixel+=1\n",
    "    stdpic=np.nanstd(testmat,axis=3)\n",
    "    meanpic=np.nanmean(testmat,axis=3)\n",
    "    \n",
    "    indices = np.moveaxis(np.indices(rgb[j].shape)[0:2,:,:,0], 0, 2)\n",
    "    obsmat= j*np.ones(rgb[j].shape[:2])\n",
    "    allArray = np.dstack((indices, obsmat, rgb[j], meanpic, stdpic)).reshape((-1, 12))\n",
    "    targetarray = np.dstack((indices, obsmat, conc[j])).reshape((-1, 6))\n",
    "    data = pd.DataFrame(allArray, columns=['y', 'x', 'obs','red','green','blue','meanR','meanG','meanB','stdR','stdG','stdB'])\n",
    "    targetDF = pd.DataFrame(targetarray, columns=['y', 'x','obs', 'red','green','blue'])\n",
    "\n",
    "    datamatch=pd.Series(np.ones(len(data), dtype=bool))\n",
    "    targetcolormatch=pd.Series(np.zeros(len(data), dtype=bool))\n",
    "    for i in range(0,len(forbiddencolors)):\n",
    "        datamatch=datamatch&(~((data.loc[:,'red']==forbiddencolors[i,0])&(data.loc[:,'green']==forbiddencolors[i,1])&(data.loc[:,'blue']==forbiddencolors[i,2])))\n",
    "    for i in range(0,len(colors)):\n",
    "        targetcolormatch=targetcolormatch|((targetDF.loc[:,'red']==colors[i,0])&(targetDF.loc[:,'green']==colors[i,1])&(targetDF.loc[:,'blue']==colors[i,2]))\n",
    "    fullmatch=datamatch & targetcolormatch\n",
    "    cleandata=data.loc[fullmatch,:]\n",
    "    cleantargets=targetDF.loc[fullmatch,:]\n",
    "\n",
    "    target=pd.DataFrame({'y':cleandata.y,'x':cleandata.x,'obs':cleandata.obs,'target':np.zeros(len(cleandata))})\n",
    "    for i in range(0,len(colors)):\n",
    "        target.loc[(cleantargets.loc[:,'red']==colors[i,0])&(cleantargets.loc[:,'green']==colors[i,1])&(cleantargets.loc[:,'blue']==colors[i,2]),'target']=i\n",
    "    #cleandata.drop(columns=['target_r','target_g','target_b'])\n",
    "    if j in trainingN:\n",
    "        cleandata_train_all=cleandata_train_all.append(cleandata)\n",
    "        target_train_all=target_train_all.append(target)\n",
    "    elif j in testingN:\n",
    "        cleandata_test_all=cleandata_test_all.append(cleandata)\n",
    "        target_test_all=target_test_all.append(target)\n",
    "    elif j in valN:\n",
    "        cleandata_val_all=cleandata_val_all.append(cleandata)\n",
    "        target_val_all=target_val_all.append(target)\n"
   ]
  },
  {
   "cell_type": "code",
   "execution_count": 172,
   "metadata": {},
   "outputs": [
    {
     "data": {
      "text/html": [
       "<div>\n",
       "<style scoped>\n",
       "    .dataframe tbody tr th:only-of-type {\n",
       "        vertical-align: middle;\n",
       "    }\n",
       "\n",
       "    .dataframe tbody tr th {\n",
       "        vertical-align: top;\n",
       "    }\n",
       "\n",
       "    .dataframe thead th {\n",
       "        text-align: right;\n",
       "    }\n",
       "</style>\n",
       "<table border=\"1\" class=\"dataframe\">\n",
       "  <thead>\n",
       "    <tr style=\"text-align: right;\">\n",
       "      <th></th>\n",
       "      <th>y</th>\n",
       "      <th>x</th>\n",
       "      <th>obs</th>\n",
       "      <th>red</th>\n",
       "      <th>green</th>\n",
       "      <th>blue</th>\n",
       "      <th>meanR</th>\n",
       "      <th>meanG</th>\n",
       "      <th>meanB</th>\n",
       "      <th>stdR</th>\n",
       "      <th>stdG</th>\n",
       "      <th>stdB</th>\n",
       "    </tr>\n",
       "  </thead>\n",
       "  <tbody>\n",
       "    <tr>\n",
       "      <th>1066</th>\n",
       "      <td>0.0</td>\n",
       "      <td>1066.0</td>\n",
       "      <td>1.0</td>\n",
       "      <td>127.0</td>\n",
       "      <td>153.0</td>\n",
       "      <td>130.0</td>\n",
       "      <td>115.000000</td>\n",
       "      <td>178.333333</td>\n",
       "      <td>122.333333</td>\n",
       "      <td>8.640988</td>\n",
       "      <td>18.208667</td>\n",
       "      <td>5.557777</td>\n",
       "    </tr>\n",
       "    <tr>\n",
       "      <th>1067</th>\n",
       "      <td>0.0</td>\n",
       "      <td>1067.0</td>\n",
       "      <td>1.0</td>\n",
       "      <td>111.0</td>\n",
       "      <td>187.0</td>\n",
       "      <td>120.0</td>\n",
       "      <td>116.750000</td>\n",
       "      <td>174.500000</td>\n",
       "      <td>123.250000</td>\n",
       "      <td>8.073878</td>\n",
       "      <td>17.109939</td>\n",
       "      <td>5.068284</td>\n",
       "    </tr>\n",
       "    <tr>\n",
       "      <th>1068</th>\n",
       "      <td>0.0</td>\n",
       "      <td>1068.0</td>\n",
       "      <td>1.0</td>\n",
       "      <td>107.0</td>\n",
       "      <td>195.0</td>\n",
       "      <td>117.0</td>\n",
       "      <td>118.500000</td>\n",
       "      <td>170.500000</td>\n",
       "      <td>124.333333</td>\n",
       "      <td>9.878428</td>\n",
       "      <td>21.891779</td>\n",
       "      <td>6.182412</td>\n",
       "    </tr>\n",
       "    <tr>\n",
       "      <th>1069</th>\n",
       "      <td>0.0</td>\n",
       "      <td>1069.0</td>\n",
       "      <td>1.0</td>\n",
       "      <td>122.0</td>\n",
       "      <td>163.0</td>\n",
       "      <td>126.0</td>\n",
       "      <td>114.500000</td>\n",
       "      <td>178.666667</td>\n",
       "      <td>121.833333</td>\n",
       "      <td>10.468206</td>\n",
       "      <td>22.954060</td>\n",
       "      <td>6.413960</td>\n",
       "    </tr>\n",
       "    <tr>\n",
       "      <th>1070</th>\n",
       "      <td>0.0</td>\n",
       "      <td>1070.0</td>\n",
       "      <td>1.0</td>\n",
       "      <td>134.0</td>\n",
       "      <td>135.0</td>\n",
       "      <td>134.0</td>\n",
       "      <td>115.200000</td>\n",
       "      <td>177.000000</td>\n",
       "      <td>122.200000</td>\n",
       "      <td>11.338430</td>\n",
       "      <td>24.811288</td>\n",
       "      <td>6.968501</td>\n",
       "    </tr>\n",
       "    <tr>\n",
       "      <th>1076</th>\n",
       "      <td>0.0</td>\n",
       "      <td>1076.0</td>\n",
       "      <td>1.0</td>\n",
       "      <td>131.0</td>\n",
       "      <td>255.0</td>\n",
       "      <td>145.0</td>\n",
       "      <td>189.857143</td>\n",
       "      <td>255.000000</td>\n",
       "      <td>197.285714</td>\n",
       "      <td>64.009884</td>\n",
       "      <td>0.000000</td>\n",
       "      <td>56.731735</td>\n",
       "    </tr>\n",
       "    <tr>\n",
       "      <th>1080</th>\n",
       "      <td>0.0</td>\n",
       "      <td>1080.0</td>\n",
       "      <td>1.0</td>\n",
       "      <td>159.0</td>\n",
       "      <td>255.0</td>\n",
       "      <td>170.0</td>\n",
       "      <td>217.000000</td>\n",
       "      <td>255.000000</td>\n",
       "      <td>221.333333</td>\n",
       "      <td>41.529106</td>\n",
       "      <td>0.000000</td>\n",
       "      <td>36.745370</td>\n",
       "    </tr>\n",
       "    <tr>\n",
       "      <th>1081</th>\n",
       "      <td>0.0</td>\n",
       "      <td>1081.0</td>\n",
       "      <td>1.0</td>\n",
       "      <td>238.0</td>\n",
       "      <td>255.0</td>\n",
       "      <td>240.0</td>\n",
       "      <td>198.500000</td>\n",
       "      <td>255.000000</td>\n",
       "      <td>205.000000</td>\n",
       "      <td>39.500000</td>\n",
       "      <td>0.000000</td>\n",
       "      <td>35.000000</td>\n",
       "    </tr>\n",
       "    <tr>\n",
       "      <th>3503</th>\n",
       "      <td>0.0</td>\n",
       "      <td>3503.0</td>\n",
       "      <td>1.0</td>\n",
       "      <td>212.0</td>\n",
       "      <td>255.0</td>\n",
       "      <td>216.0</td>\n",
       "      <td>202.333333</td>\n",
       "      <td>255.000000</td>\n",
       "      <td>208.333333</td>\n",
       "      <td>28.986587</td>\n",
       "      <td>0.000000</td>\n",
       "      <td>25.486380</td>\n",
       "    </tr>\n",
       "    <tr>\n",
       "      <th>4584</th>\n",
       "      <td>1.0</td>\n",
       "      <td>1077.0</td>\n",
       "      <td>1.0</td>\n",
       "      <td>244.0</td>\n",
       "      <td>255.0</td>\n",
       "      <td>245.0</td>\n",
       "      <td>220.500000</td>\n",
       "      <td>255.000000</td>\n",
       "      <td>224.333333</td>\n",
       "      <td>46.053411</td>\n",
       "      <td>0.000000</td>\n",
       "      <td>40.921334</td>\n",
       "    </tr>\n",
       "  </tbody>\n",
       "</table>\n",
       "</div>"
      ],
      "text/plain": [
       "        y       x  obs    red  green   blue       meanR       meanG  \\\n",
       "1066  0.0  1066.0  1.0  127.0  153.0  130.0  115.000000  178.333333   \n",
       "1067  0.0  1067.0  1.0  111.0  187.0  120.0  116.750000  174.500000   \n",
       "1068  0.0  1068.0  1.0  107.0  195.0  117.0  118.500000  170.500000   \n",
       "1069  0.0  1069.0  1.0  122.0  163.0  126.0  114.500000  178.666667   \n",
       "1070  0.0  1070.0  1.0  134.0  135.0  134.0  115.200000  177.000000   \n",
       "1076  0.0  1076.0  1.0  131.0  255.0  145.0  189.857143  255.000000   \n",
       "1080  0.0  1080.0  1.0  159.0  255.0  170.0  217.000000  255.000000   \n",
       "1081  0.0  1081.0  1.0  238.0  255.0  240.0  198.500000  255.000000   \n",
       "3503  0.0  3503.0  1.0  212.0  255.0  216.0  202.333333  255.000000   \n",
       "4584  1.0  1077.0  1.0  244.0  255.0  245.0  220.500000  255.000000   \n",
       "\n",
       "           meanB       stdR       stdG       stdB  \n",
       "1066  122.333333   8.640988  18.208667   5.557777  \n",
       "1067  123.250000   8.073878  17.109939   5.068284  \n",
       "1068  124.333333   9.878428  21.891779   6.182412  \n",
       "1069  121.833333  10.468206  22.954060   6.413960  \n",
       "1070  122.200000  11.338430  24.811288   6.968501  \n",
       "1076  197.285714  64.009884   0.000000  56.731735  \n",
       "1080  221.333333  41.529106   0.000000  36.745370  \n",
       "1081  205.000000  39.500000   0.000000  35.000000  \n",
       "3503  208.333333  28.986587   0.000000  25.486380  \n",
       "4584  224.333333  46.053411   0.000000  40.921334  "
      ]
     },
     "execution_count": 172,
     "metadata": {},
     "output_type": "execute_result"
    }
   ],
   "source": [
    "cleandata_train_all.head(10)"
   ]
  },
  {
   "cell_type": "code",
   "execution_count": 173,
   "metadata": {},
   "outputs": [
    {
     "data": {
      "text/html": [
       "<div>\n",
       "<style scoped>\n",
       "    .dataframe tbody tr th:only-of-type {\n",
       "        vertical-align: middle;\n",
       "    }\n",
       "\n",
       "    .dataframe tbody tr th {\n",
       "        vertical-align: top;\n",
       "    }\n",
       "\n",
       "    .dataframe thead th {\n",
       "        text-align: right;\n",
       "    }\n",
       "</style>\n",
       "<table border=\"1\" class=\"dataframe\">\n",
       "  <thead>\n",
       "    <tr style=\"text-align: right;\">\n",
       "      <th></th>\n",
       "      <th>y</th>\n",
       "      <th>x</th>\n",
       "      <th>obs</th>\n",
       "      <th>target</th>\n",
       "    </tr>\n",
       "  </thead>\n",
       "  <tbody>\n",
       "    <tr>\n",
       "      <th>1066</th>\n",
       "      <td>0.0</td>\n",
       "      <td>1066.0</td>\n",
       "      <td>1.0</td>\n",
       "      <td>7.0</td>\n",
       "    </tr>\n",
       "    <tr>\n",
       "      <th>1067</th>\n",
       "      <td>0.0</td>\n",
       "      <td>1067.0</td>\n",
       "      <td>1.0</td>\n",
       "      <td>7.0</td>\n",
       "    </tr>\n",
       "    <tr>\n",
       "      <th>1068</th>\n",
       "      <td>0.0</td>\n",
       "      <td>1068.0</td>\n",
       "      <td>1.0</td>\n",
       "      <td>7.0</td>\n",
       "    </tr>\n",
       "    <tr>\n",
       "      <th>1069</th>\n",
       "      <td>0.0</td>\n",
       "      <td>1069.0</td>\n",
       "      <td>1.0</td>\n",
       "      <td>7.0</td>\n",
       "    </tr>\n",
       "    <tr>\n",
       "      <th>1070</th>\n",
       "      <td>0.0</td>\n",
       "      <td>1070.0</td>\n",
       "      <td>1.0</td>\n",
       "      <td>7.0</td>\n",
       "    </tr>\n",
       "    <tr>\n",
       "      <th>1076</th>\n",
       "      <td>0.0</td>\n",
       "      <td>1076.0</td>\n",
       "      <td>1.0</td>\n",
       "      <td>6.0</td>\n",
       "    </tr>\n",
       "    <tr>\n",
       "      <th>1080</th>\n",
       "      <td>0.0</td>\n",
       "      <td>1080.0</td>\n",
       "      <td>1.0</td>\n",
       "      <td>6.0</td>\n",
       "    </tr>\n",
       "    <tr>\n",
       "      <th>1081</th>\n",
       "      <td>0.0</td>\n",
       "      <td>1081.0</td>\n",
       "      <td>1.0</td>\n",
       "      <td>6.0</td>\n",
       "    </tr>\n",
       "    <tr>\n",
       "      <th>3503</th>\n",
       "      <td>0.0</td>\n",
       "      <td>3503.0</td>\n",
       "      <td>1.0</td>\n",
       "      <td>6.0</td>\n",
       "    </tr>\n",
       "    <tr>\n",
       "      <th>4584</th>\n",
       "      <td>1.0</td>\n",
       "      <td>1077.0</td>\n",
       "      <td>1.0</td>\n",
       "      <td>6.0</td>\n",
       "    </tr>\n",
       "  </tbody>\n",
       "</table>\n",
       "</div>"
      ],
      "text/plain": [
       "        y       x  obs  target\n",
       "1066  0.0  1066.0  1.0     7.0\n",
       "1067  0.0  1067.0  1.0     7.0\n",
       "1068  0.0  1068.0  1.0     7.0\n",
       "1069  0.0  1069.0  1.0     7.0\n",
       "1070  0.0  1070.0  1.0     7.0\n",
       "1076  0.0  1076.0  1.0     6.0\n",
       "1080  0.0  1080.0  1.0     6.0\n",
       "1081  0.0  1081.0  1.0     6.0\n",
       "3503  0.0  3503.0  1.0     6.0\n",
       "4584  1.0  1077.0  1.0     6.0"
      ]
     },
     "execution_count": 173,
     "metadata": {},
     "output_type": "execute_result"
    }
   ],
   "source": [
    "target_train_all.head(10)"
   ]
  },
  {
   "cell_type": "code",
   "execution_count": 174,
   "metadata": {},
   "outputs": [
    {
     "data": {
      "text/plain": [
       "6.0    10132988\n",
       "5.0     3347317\n",
       "7.0      906477\n",
       "0.0      563670\n",
       "4.0      375181\n",
       "1.0      225893\n",
       "2.0      139161\n",
       "3.0      118100\n",
       "Name: target, dtype: int64"
      ]
     },
     "execution_count": 174,
     "metadata": {},
     "output_type": "execute_result"
    }
   ],
   "source": [
    "target_train_all.target.value_counts()"
   ]
  },
  {
   "cell_type": "code",
   "execution_count": 175,
   "metadata": {
    "scrolled": true
   },
   "outputs": [
    {
     "name": "stdout",
     "output_type": "stream",
     "text": [
      "(1546329, 12)\n",
      "(1546329, 4)\n",
      "(2172847, 12)\n",
      "(2172847, 4)\n"
     ]
    }
   ],
   "source": [
    "print(cleandata_test_all.shape)\n",
    "print(target_test_all.shape)\n",
    "print(cleandata_val_all.shape)\n",
    "print(target_val_all.shape)"
   ]
  },
  {
   "cell_type": "code",
   "execution_count": 176,
   "metadata": {
    "scrolled": false
   },
   "outputs": [
    {
     "data": {
      "text/plain": [
       "5.0    854253\n",
       "6.0    528746\n",
       "4.0     78048\n",
       "2.0     28744\n",
       "1.0     17593\n",
       "3.0     17208\n",
       "0.0     15703\n",
       "7.0      6034\n",
       "Name: target, dtype: int64"
      ]
     },
     "execution_count": 176,
     "metadata": {},
     "output_type": "execute_result"
    }
   ],
   "source": [
    "target_test_all.target.value_counts()"
   ]
  },
  {
   "cell_type": "code",
   "execution_count": 177,
   "metadata": {},
   "outputs": [
    {
     "data": {
      "text/plain": [
       "5.0    1249493\n",
       "6.0     717182\n",
       "4.0      80865\n",
       "1.0      52771\n",
       "7.0      50688\n",
       "3.0      21818\n",
       "0.0         30\n",
       "Name: target, dtype: int64"
      ]
     },
     "execution_count": 177,
     "metadata": {},
     "output_type": "execute_result"
    }
   ],
   "source": [
    "target_val_all.target.value_counts()"
   ]
  },
  {
   "cell_type": "code",
   "execution_count": 178,
   "metadata": {},
   "outputs": [
    {
     "data": {
      "text/plain": [
       "139161"
      ]
     },
     "execution_count": 178,
     "metadata": {},
     "output_type": "execute_result"
    }
   ],
   "source": [
    "target_train_all.target.value_counts().sort_values()[2]"
   ]
  },
  {
   "cell_type": "code",
   "execution_count": 324,
   "metadata": {
    "scrolled": true
   },
   "outputs": [],
   "source": [
    "# resample the training observations' data to rebalance the classes\n",
    "training_reduction=0.1\n",
    "nsamp=int(training_reduction*(target_train_all.target.value_counts().sort_values().iloc[1]))\n",
    "dataresampledmat=np.zeros((nsamp,len(cleandata_train_all.columns),len(target_train_all.target.unique())))\n",
    "targetresampledmat=np.zeros((nsamp,len(target_train_all.columns),len(target_train_all.target.unique())))\n",
    "for targ in target_train_all.target.unique():\n",
    "    dataresampledmat[:,:,int(targ)],targetresampledmat[:,:,int(targ)]=resample(cleandata_train_all.loc[target_train_all.target==targ,:],target_train_all.loc[target_train_all.target==targ,:],n_samples=nsamp)\n",
    "data_resampled=pd.DataFrame(np.hstack(dataresampledmat.transpose()).transpose(), columns=['y', 'x', 'obs', 'red','green','blue','meanR','meanG','meanB','stdR','stdG','stdB'])\n",
    "target_resampled=pd.DataFrame(np.hstack(targetresampledmat.transpose()).transpose(), columns=['y', 'x', 'obs', 'target'])\n",
    "\n",
    "# resample the test observation's data to rebalance the classes\n",
    "test_reduction=0.1\n",
    "nsamp=int(test_reduction*(target_test_all.target.value_counts().sort_values().iloc[1]))\n",
    "dataresampledmat=np.zeros((nsamp,len(cleandata_test_all.columns),len(target_test_all.target.unique())))\n",
    "targetresampledmat=np.zeros((nsamp,len(target_test_all.columns),len(target_test_all.target.unique())))\n",
    "for targ in target_test_all.target.unique():\n",
    "    dataresampledmat[:,:,int(targ)],targetresampledmat[:,:,int(targ)]=resample(cleandata_test_all.loc[target_test_all.target==targ,:],target_test_all.loc[target_test_all.target==targ,:],n_samples=nsamp)\n",
    "test_data_resampled=pd.DataFrame(np.hstack(dataresampledmat.transpose()).transpose(), columns=['y', 'x', 'obs', 'red','green','blue','meanR','meanG','meanB','stdR','stdG','stdB'])\n",
    "test_target_resampled=pd.DataFrame(np.hstack(targetresampledmat.transpose()).transpose(), columns=['y', 'x', 'obs', 'target'])\n",
    "\n",
    "# do not rebalance the validation observation"
   ]
  },
  {
   "cell_type": "code",
   "execution_count": 325,
   "metadata": {},
   "outputs": [
    {
     "data": {
      "text/html": [
       "<div>\n",
       "<style scoped>\n",
       "    .dataframe tbody tr th:only-of-type {\n",
       "        vertical-align: middle;\n",
       "    }\n",
       "\n",
       "    .dataframe tbody tr th {\n",
       "        vertical-align: top;\n",
       "    }\n",
       "\n",
       "    .dataframe thead th {\n",
       "        text-align: right;\n",
       "    }\n",
       "</style>\n",
       "<table border=\"1\" class=\"dataframe\">\n",
       "  <thead>\n",
       "    <tr style=\"text-align: right;\">\n",
       "      <th></th>\n",
       "      <th>y</th>\n",
       "      <th>x</th>\n",
       "      <th>obs</th>\n",
       "      <th>red</th>\n",
       "      <th>green</th>\n",
       "      <th>blue</th>\n",
       "      <th>meanR</th>\n",
       "      <th>meanG</th>\n",
       "      <th>meanB</th>\n",
       "      <th>stdR</th>\n",
       "      <th>stdG</th>\n",
       "      <th>stdB</th>\n",
       "    </tr>\n",
       "  </thead>\n",
       "  <tbody>\n",
       "    <tr>\n",
       "      <th>0</th>\n",
       "      <td>1141.0</td>\n",
       "      <td>1073.0</td>\n",
       "      <td>8.0</td>\n",
       "      <td>240.0</td>\n",
       "      <td>4.0</td>\n",
       "      <td>2.0</td>\n",
       "      <td>232.60</td>\n",
       "      <td>4.00</td>\n",
       "      <td>1.88</td>\n",
       "      <td>21.365393</td>\n",
       "      <td>0.000000</td>\n",
       "      <td>0.587878</td>\n",
       "    </tr>\n",
       "    <tr>\n",
       "      <th>1</th>\n",
       "      <td>1203.0</td>\n",
       "      <td>1139.0</td>\n",
       "      <td>2.0</td>\n",
       "      <td>45.0</td>\n",
       "      <td>65.0</td>\n",
       "      <td>152.0</td>\n",
       "      <td>49.08</td>\n",
       "      <td>65.60</td>\n",
       "      <td>152.44</td>\n",
       "      <td>2.348106</td>\n",
       "      <td>4.280187</td>\n",
       "      <td>4.817302</td>\n",
       "    </tr>\n",
       "    <tr>\n",
       "      <th>2</th>\n",
       "      <td>765.0</td>\n",
       "      <td>1202.0</td>\n",
       "      <td>9.0</td>\n",
       "      <td>94.0</td>\n",
       "      <td>79.0</td>\n",
       "      <td>126.0</td>\n",
       "      <td>89.52</td>\n",
       "      <td>73.04</td>\n",
       "      <td>130.24</td>\n",
       "      <td>3.634501</td>\n",
       "      <td>4.303301</td>\n",
       "      <td>7.436558</td>\n",
       "    </tr>\n",
       "    <tr>\n",
       "      <th>3</th>\n",
       "      <td>1978.0</td>\n",
       "      <td>2131.0</td>\n",
       "      <td>6.0</td>\n",
       "      <td>252.0</td>\n",
       "      <td>5.0</td>\n",
       "      <td>2.0</td>\n",
       "      <td>253.80</td>\n",
       "      <td>5.00</td>\n",
       "      <td>2.00</td>\n",
       "      <td>1.720465</td>\n",
       "      <td>0.000000</td>\n",
       "      <td>0.000000</td>\n",
       "    </tr>\n",
       "    <tr>\n",
       "      <th>4</th>\n",
       "      <td>781.0</td>\n",
       "      <td>1439.0</td>\n",
       "      <td>9.0</td>\n",
       "      <td>157.0</td>\n",
       "      <td>91.0</td>\n",
       "      <td>113.0</td>\n",
       "      <td>147.52</td>\n",
       "      <td>91.20</td>\n",
       "      <td>108.20</td>\n",
       "      <td>13.139619</td>\n",
       "      <td>5.973274</td>\n",
       "      <td>5.775812</td>\n",
       "    </tr>\n",
       "  </tbody>\n",
       "</table>\n",
       "</div>"
      ],
      "text/plain": [
       "        y       x  obs    red  green   blue   meanR  meanG   meanB       stdR  \\\n",
       "0  1141.0  1073.0  8.0  240.0    4.0    2.0  232.60   4.00    1.88  21.365393   \n",
       "1  1203.0  1139.0  2.0   45.0   65.0  152.0   49.08  65.60  152.44   2.348106   \n",
       "2   765.0  1202.0  9.0   94.0   79.0  126.0   89.52  73.04  130.24   3.634501   \n",
       "3  1978.0  2131.0  6.0  252.0    5.0    2.0  253.80   5.00    2.00   1.720465   \n",
       "4   781.0  1439.0  9.0  157.0   91.0  113.0  147.52  91.20  108.20  13.139619   \n",
       "\n",
       "       stdG      stdB  \n",
       "0  0.000000  0.587878  \n",
       "1  4.280187  4.817302  \n",
       "2  4.303301  7.436558  \n",
       "3  0.000000  0.000000  \n",
       "4  5.973274  5.775812  "
      ]
     },
     "execution_count": 325,
     "metadata": {},
     "output_type": "execute_result"
    }
   ],
   "source": [
    "data_resampled.head()"
   ]
  },
  {
   "cell_type": "code",
   "execution_count": 326,
   "metadata": {},
   "outputs": [
    {
     "data": {
      "text/html": [
       "<div>\n",
       "<style scoped>\n",
       "    .dataframe tbody tr th:only-of-type {\n",
       "        vertical-align: middle;\n",
       "    }\n",
       "\n",
       "    .dataframe tbody tr th {\n",
       "        vertical-align: top;\n",
       "    }\n",
       "\n",
       "    .dataframe thead th {\n",
       "        text-align: right;\n",
       "    }\n",
       "</style>\n",
       "<table border=\"1\" class=\"dataframe\">\n",
       "  <thead>\n",
       "    <tr style=\"text-align: right;\">\n",
       "      <th></th>\n",
       "      <th>y</th>\n",
       "      <th>x</th>\n",
       "      <th>obs</th>\n",
       "      <th>target</th>\n",
       "    </tr>\n",
       "  </thead>\n",
       "  <tbody>\n",
       "    <tr>\n",
       "      <th>0</th>\n",
       "      <td>1141.0</td>\n",
       "      <td>1073.0</td>\n",
       "      <td>8.0</td>\n",
       "      <td>0.0</td>\n",
       "    </tr>\n",
       "    <tr>\n",
       "      <th>1</th>\n",
       "      <td>1203.0</td>\n",
       "      <td>1139.0</td>\n",
       "      <td>2.0</td>\n",
       "      <td>0.0</td>\n",
       "    </tr>\n",
       "    <tr>\n",
       "      <th>2</th>\n",
       "      <td>765.0</td>\n",
       "      <td>1202.0</td>\n",
       "      <td>9.0</td>\n",
       "      <td>0.0</td>\n",
       "    </tr>\n",
       "    <tr>\n",
       "      <th>3</th>\n",
       "      <td>1978.0</td>\n",
       "      <td>2131.0</td>\n",
       "      <td>6.0</td>\n",
       "      <td>0.0</td>\n",
       "    </tr>\n",
       "    <tr>\n",
       "      <th>4</th>\n",
       "      <td>781.0</td>\n",
       "      <td>1439.0</td>\n",
       "      <td>9.0</td>\n",
       "      <td>0.0</td>\n",
       "    </tr>\n",
       "  </tbody>\n",
       "</table>\n",
       "</div>"
      ],
      "text/plain": [
       "        y       x  obs  target\n",
       "0  1141.0  1073.0  8.0     0.0\n",
       "1  1203.0  1139.0  2.0     0.0\n",
       "2   765.0  1202.0  9.0     0.0\n",
       "3  1978.0  2131.0  6.0     0.0\n",
       "4   781.0  1439.0  9.0     0.0"
      ]
     },
     "execution_count": 326,
     "metadata": {},
     "output_type": "execute_result"
    }
   ],
   "source": [
    "target_resampled.head()"
   ]
  },
  {
   "cell_type": "code",
   "execution_count": 327,
   "metadata": {},
   "outputs": [
    {
     "data": {
      "text/plain": [
       "0.0    13916\n",
       "4.0    13916\n",
       "3.0    13916\n",
       "1.0    13916\n",
       "7.0    13916\n",
       "2.0    13916\n",
       "5.0    13916\n",
       "6.0    13916\n",
       "Name: target, dtype: int64"
      ]
     },
     "execution_count": 327,
     "metadata": {},
     "output_type": "execute_result"
    }
   ],
   "source": [
    "target_resampled.target.value_counts()"
   ]
  },
  {
   "cell_type": "code",
   "execution_count": 328,
   "metadata": {},
   "outputs": [],
   "source": [
    "x_train_all, x_validate, y_train_all, y_validate = model_selection.train_test_split(data_resampled.loc[:,'red':'stdB'], target_resampled.target, test_size=0.1)\n",
    "# now split the training data further into training and testing\n",
    "x_train, x_test, y_train, y_test = model_selection.train_test_split(x_train_all, y_train_all, test_size=0.2)\n",
    "# now split the training data further for plotting and use when the fitting runs slowly\n",
    "x_train_small, x_test_small, y_train_small, y_test_small = model_selection.train_test_split(x_train_all, y_train_all, test_size=0.02,train_size=0.02)"
   ]
  },
  {
   "cell_type": "code",
   "execution_count": 329,
   "metadata": {},
   "outputs": [
    {
     "data": {
      "text/plain": [
       "6.0    268\n",
       "3.0    262\n",
       "2.0    252\n",
       "5.0    250\n",
       "7.0    245\n",
       "1.0    243\n",
       "0.0    242\n",
       "4.0    241\n",
       "Name: target, dtype: int64"
      ]
     },
     "execution_count": 329,
     "metadata": {},
     "output_type": "execute_result"
    }
   ],
   "source": [
    "y_train_small.value_counts()"
   ]
  },
  {
   "cell_type": "code",
   "execution_count": 330,
   "metadata": {},
   "outputs": [],
   "source": [
    "plt.close('all')"
   ]
  },
  {
   "cell_type": "code",
   "execution_count": 331,
   "metadata": {},
   "outputs": [
    {
     "data": {
      "text/html": [
       "<div>\n",
       "<style scoped>\n",
       "    .dataframe tbody tr th:only-of-type {\n",
       "        vertical-align: middle;\n",
       "    }\n",
       "\n",
       "    .dataframe tbody tr th {\n",
       "        vertical-align: top;\n",
       "    }\n",
       "\n",
       "    .dataframe thead th {\n",
       "        text-align: right;\n",
       "    }\n",
       "</style>\n",
       "<table border=\"1\" class=\"dataframe\">\n",
       "  <thead>\n",
       "    <tr style=\"text-align: right;\">\n",
       "      <th></th>\n",
       "      <th>red</th>\n",
       "      <th>green</th>\n",
       "      <th>blue</th>\n",
       "      <th>meanR</th>\n",
       "      <th>meanG</th>\n",
       "      <th>meanB</th>\n",
       "      <th>stdR</th>\n",
       "      <th>stdG</th>\n",
       "      <th>stdB</th>\n",
       "    </tr>\n",
       "  </thead>\n",
       "  <tbody>\n",
       "    <tr>\n",
       "      <th>25156</th>\n",
       "      <td>90.0</td>\n",
       "      <td>30.0</td>\n",
       "      <td>28.0</td>\n",
       "      <td>99.520000</td>\n",
       "      <td>34.520000</td>\n",
       "      <td>38.760000</td>\n",
       "      <td>15.323498</td>\n",
       "      <td>16.062677</td>\n",
       "      <td>20.702232</td>\n",
       "    </tr>\n",
       "    <tr>\n",
       "      <th>75741</th>\n",
       "      <td>101.0</td>\n",
       "      <td>50.0</td>\n",
       "      <td>49.0</td>\n",
       "      <td>128.041667</td>\n",
       "      <td>32.916667</td>\n",
       "      <td>33.458333</td>\n",
       "      <td>61.607953</td>\n",
       "      <td>14.820922</td>\n",
       "      <td>19.384227</td>\n",
       "    </tr>\n",
       "    <tr>\n",
       "      <th>4229</th>\n",
       "      <td>253.0</td>\n",
       "      <td>13.0</td>\n",
       "      <td>5.0</td>\n",
       "      <td>239.240000</td>\n",
       "      <td>13.000000</td>\n",
       "      <td>5.000000</td>\n",
       "      <td>7.834692</td>\n",
       "      <td>0.632456</td>\n",
       "      <td>0.000000</td>\n",
       "    </tr>\n",
       "    <tr>\n",
       "      <th>45279</th>\n",
       "      <td>104.0</td>\n",
       "      <td>62.0</td>\n",
       "      <td>67.0</td>\n",
       "      <td>118.920000</td>\n",
       "      <td>59.720000</td>\n",
       "      <td>64.120000</td>\n",
       "      <td>13.114633</td>\n",
       "      <td>4.303673</td>\n",
       "      <td>5.757222</td>\n",
       "    </tr>\n",
       "    <tr>\n",
       "      <th>31253</th>\n",
       "      <td>106.0</td>\n",
       "      <td>18.0</td>\n",
       "      <td>20.0</td>\n",
       "      <td>96.960000</td>\n",
       "      <td>15.600000</td>\n",
       "      <td>20.440000</td>\n",
       "      <td>15.805012</td>\n",
       "      <td>4.326662</td>\n",
       "      <td>7.960302</td>\n",
       "    </tr>\n",
       "    <tr>\n",
       "      <th>...</th>\n",
       "      <td>...</td>\n",
       "      <td>...</td>\n",
       "      <td>...</td>\n",
       "      <td>...</td>\n",
       "      <td>...</td>\n",
       "      <td>...</td>\n",
       "      <td>...</td>\n",
       "      <td>...</td>\n",
       "      <td>...</td>\n",
       "    </tr>\n",
       "    <tr>\n",
       "      <th>38929</th>\n",
       "      <td>118.0</td>\n",
       "      <td>74.0</td>\n",
       "      <td>76.0</td>\n",
       "      <td>105.160000</td>\n",
       "      <td>54.760000</td>\n",
       "      <td>63.760000</td>\n",
       "      <td>12.177619</td>\n",
       "      <td>11.856745</td>\n",
       "      <td>9.957028</td>\n",
       "    </tr>\n",
       "    <tr>\n",
       "      <th>25146</th>\n",
       "      <td>92.0</td>\n",
       "      <td>24.0</td>\n",
       "      <td>23.0</td>\n",
       "      <td>151.260870</td>\n",
       "      <td>21.565217</td>\n",
       "      <td>23.478261</td>\n",
       "      <td>47.161349</td>\n",
       "      <td>2.618099</td>\n",
       "      <td>5.531487</td>\n",
       "    </tr>\n",
       "    <tr>\n",
       "      <th>48528</th>\n",
       "      <td>87.0</td>\n",
       "      <td>39.0</td>\n",
       "      <td>51.0</td>\n",
       "      <td>96.920000</td>\n",
       "      <td>40.080000</td>\n",
       "      <td>48.840000</td>\n",
       "      <td>10.691754</td>\n",
       "      <td>4.938988</td>\n",
       "      <td>4.144201</td>\n",
       "    </tr>\n",
       "    <tr>\n",
       "      <th>42909</th>\n",
       "      <td>101.0</td>\n",
       "      <td>90.0</td>\n",
       "      <td>103.0</td>\n",
       "      <td>108.160000</td>\n",
       "      <td>68.360000</td>\n",
       "      <td>80.840000</td>\n",
       "      <td>10.429497</td>\n",
       "      <td>15.354166</td>\n",
       "      <td>21.118106</td>\n",
       "    </tr>\n",
       "    <tr>\n",
       "      <th>83849</th>\n",
       "      <td>39.0</td>\n",
       "      <td>7.0</td>\n",
       "      <td>16.0</td>\n",
       "      <td>38.880000</td>\n",
       "      <td>7.200000</td>\n",
       "      <td>15.960000</td>\n",
       "      <td>2.702887</td>\n",
       "      <td>0.400000</td>\n",
       "      <td>0.999200</td>\n",
       "    </tr>\n",
       "  </tbody>\n",
       "</table>\n",
       "<p>2003 rows × 9 columns</p>\n",
       "</div>"
      ],
      "text/plain": [
       "         red  green   blue       meanR      meanG      meanB       stdR  \\\n",
       "25156   90.0   30.0   28.0   99.520000  34.520000  38.760000  15.323498   \n",
       "75741  101.0   50.0   49.0  128.041667  32.916667  33.458333  61.607953   \n",
       "4229   253.0   13.0    5.0  239.240000  13.000000   5.000000   7.834692   \n",
       "45279  104.0   62.0   67.0  118.920000  59.720000  64.120000  13.114633   \n",
       "31253  106.0   18.0   20.0   96.960000  15.600000  20.440000  15.805012   \n",
       "...      ...    ...    ...         ...        ...        ...        ...   \n",
       "38929  118.0   74.0   76.0  105.160000  54.760000  63.760000  12.177619   \n",
       "25146   92.0   24.0   23.0  151.260870  21.565217  23.478261  47.161349   \n",
       "48528   87.0   39.0   51.0   96.920000  40.080000  48.840000  10.691754   \n",
       "42909  101.0   90.0  103.0  108.160000  68.360000  80.840000  10.429497   \n",
       "83849   39.0    7.0   16.0   38.880000   7.200000  15.960000   2.702887   \n",
       "\n",
       "            stdG       stdB  \n",
       "25156  16.062677  20.702232  \n",
       "75741  14.820922  19.384227  \n",
       "4229    0.632456   0.000000  \n",
       "45279   4.303673   5.757222  \n",
       "31253   4.326662   7.960302  \n",
       "...          ...        ...  \n",
       "38929  11.856745   9.957028  \n",
       "25146   2.618099   5.531487  \n",
       "48528   4.938988   4.144201  \n",
       "42909  15.354166  21.118106  \n",
       "83849   0.400000   0.999200  \n",
       "\n",
       "[2003 rows x 9 columns]"
      ]
     },
     "execution_count": 331,
     "metadata": {},
     "output_type": "execute_result"
    }
   ],
   "source": [
    "x_train_small"
   ]
  },
  {
   "cell_type": "code",
   "execution_count": 332,
   "metadata": {},
   "outputs": [
    {
     "data": {
      "application/vnd.jupyter.widget-view+json": {
       "model_id": "31840e786a1044429242afc3396b1ca6",
       "version_major": 2,
       "version_minor": 0
      },
      "text/plain": [
       "Canvas(toolbar=Toolbar(toolitems=[('Home', 'Reset original view', 'home', 'home'), ('Back', 'Back to previous …"
      ]
     },
     "metadata": {},
     "output_type": "display_data"
    },
    {
     "data": {
      "text/plain": [
       "<seaborn.axisgrid.PairGrid at 0x1ecf27b1b20>"
      ]
     },
     "execution_count": 332,
     "metadata": {},
     "output_type": "execute_result"
    }
   ],
   "source": [
    "forpariplot=x_train_small.copy()\n",
    "forpariplot['target']=y_train_small\n",
    "sns.pairplot(forpariplot.loc[np.isin(forpariplot['target'],(5,6,7))], hue=\"target\")"
   ]
  },
  {
   "cell_type": "code",
   "execution_count": 333,
   "metadata": {},
   "outputs": [
    {
     "name": "stderr",
     "output_type": "stream",
     "text": [
      "C:\\Users\\jms\\anaconda3\\envs\\tf\\lib\\site-packages\\sklearn\\svm\\_base.py:985: ConvergenceWarning: Liblinear failed to converge, increase the number of iterations.\n",
      "  warnings.warn(\"Liblinear failed to converge, increase \"\n"
     ]
    },
    {
     "data": {
      "text/plain": [
       "Pipeline(steps=[('poly_features', PolynomialFeatures()),\n",
       "                ('scaler', StandardScaler()),\n",
       "                ('svm_clf',\n",
       "                 LinearSVC(C=1, loss='hinge', max_iter=10000, tol=0.01))])"
      ]
     },
     "execution_count": 333,
     "metadata": {},
     "output_type": "execute_result"
    }
   ],
   "source": [
    "from sklearn.pipeline import Pipeline\n",
    "from sklearn.preprocessing import StandardScaler\n",
    "from sklearn.svm import LinearSVC\n",
    "from sklearn.preprocessing import PolynomialFeatures\n",
    "\n",
    "polynomial_svm_clf = Pipeline([\n",
    "        (\"poly_features\", PolynomialFeatures(degree=2)),\n",
    "        (\"scaler\", StandardScaler()),\n",
    "        (\"svm_clf\", LinearSVC(C=1, loss=\"hinge\",max_iter=10000,tol=0.01))\n",
    "    ])\n",
    "\n",
    "polynomial_svm_clf.fit(x_train_small, y_train_small)"
   ]
  },
  {
   "cell_type": "code",
   "execution_count": 334,
   "metadata": {},
   "outputs": [],
   "source": [
    "y_pred=polynomial_svm_clf.predict(x_test)"
   ]
  },
  {
   "cell_type": "code",
   "execution_count": 335,
   "metadata": {
    "scrolled": true
   },
   "outputs": [
    {
     "name": "stdout",
     "output_type": "stream",
     "text": [
      "0.44128948550326863\n"
     ]
    }
   ],
   "source": [
    "score = accuracy_score(y_test, y_pred)\n",
    "print(score)"
   ]
  },
  {
   "cell_type": "code",
   "execution_count": 336,
   "metadata": {},
   "outputs": [
    {
     "data": {
      "application/vnd.jupyter.widget-view+json": {
       "model_id": "279f9e7518b54d489d31b3c193831dad",
       "version_major": 2,
       "version_minor": 0
      },
      "text/plain": [
       "Canvas(toolbar=Toolbar(toolitems=[('Home', 'Reset original view', 'home', 'home'), ('Back', 'Back to previous …"
      ]
     },
     "metadata": {},
     "output_type": "display_data"
    },
    {
     "data": {
      "text/plain": [
       "Text(0.5, 36.72222222222221, 'predicted label')"
      ]
     },
     "execution_count": 336,
     "metadata": {},
     "output_type": "execute_result"
    }
   ],
   "source": [
    "plt.figure()\n",
    "mat = confusion_matrix(y_test, y_pred)\n",
    "sns.heatmap(mat, annot=True, fmt='d', cbar=True) \n",
    "plt.ylabel('true label')\n",
    "plt.xlabel('predicted label')"
   ]
  },
  {
   "cell_type": "code",
   "execution_count": 337,
   "metadata": {},
   "outputs": [
    {
     "name": "stdout",
     "output_type": "stream",
     "text": [
      "0.37977707006369427\n"
     ]
    }
   ],
   "source": [
    "# try it on the test observations\n",
    "y_pred = polynomial_svm_clf.predict(test_data_resampled.loc[:,'red':'stdB'])\n",
    "score = accuracy_score(test_target_resampled.target, y_pred)\n",
    "print(score)"
   ]
  },
  {
   "cell_type": "code",
   "execution_count": 338,
   "metadata": {},
   "outputs": [
    {
     "name": "stdout",
     "output_type": "stream",
     "text": [
      "0.5978841259543889\n"
     ]
    }
   ],
   "source": [
    "RFclf=RandomForestClassifier(max_depth=10,n_estimators=500)\n",
    "modelRF=RFclf.fit(x_train,y_train)\n",
    "y_pred = modelRF.predict(x_test)\n",
    "score = accuracy_score(y_test, y_pred)\n",
    "print(score)"
   ]
  },
  {
   "cell_type": "code",
   "execution_count": 339,
   "metadata": {},
   "outputs": [
    {
     "data": {
      "application/vnd.jupyter.widget-view+json": {
       "model_id": "3467d108a8fd4e72b1b80986a5788af5",
       "version_major": 2,
       "version_minor": 0
      },
      "text/plain": [
       "Canvas(toolbar=Toolbar(toolitems=[('Home', 'Reset original view', 'home', 'home'), ('Back', 'Back to previous …"
      ]
     },
     "metadata": {},
     "output_type": "display_data"
    },
    {
     "data": {
      "text/plain": [
       "Text(0.5, 36.72222222222221, 'predicted label')"
      ]
     },
     "execution_count": 339,
     "metadata": {},
     "output_type": "execute_result"
    }
   ],
   "source": [
    "plt.figure()\n",
    "mat = confusion_matrix(y_test, y_pred)\n",
    "sns.heatmap(mat, annot=True, fmt='d', cbar=True) \n",
    "plt.ylabel('true label')\n",
    "plt.xlabel('predicted label')"
   ]
  },
  {
   "cell_type": "code",
   "execution_count": 340,
   "metadata": {},
   "outputs": [
    {
     "name": "stdout",
     "output_type": "stream",
     "text": [
      "red :  0.03617637753910158\n",
      "green :  0.1263806937016087\n",
      "blue :  0.06943931382887873\n",
      "meanR :  0.08613166731708104\n",
      "meanG :  0.19561756394967958\n",
      "meanB :  0.1256287782495865\n",
      "stdR :  0.12568664171561167\n",
      "stdG :  0.15905616646561443\n",
      "stdB :  0.07588279723283789\n"
     ]
    }
   ],
   "source": [
    "#print importance of the features\n",
    "for name, score in zip(list(x_train.columns), RFclf.feature_importances_):\n",
    "    print(name,': ', score)"
   ]
  },
  {
   "cell_type": "code",
   "execution_count": 341,
   "metadata": {},
   "outputs": [
    {
     "name": "stdout",
     "output_type": "stream",
     "text": [
      "0.37563694267515924\n"
     ]
    }
   ],
   "source": [
    "y_pred = modelRF.predict(test_data_resampled.loc[:,'red':'stdB'])\n",
    "score = accuracy_score(test_target_resampled.target, y_pred)\n",
    "print(score)"
   ]
  },
  {
   "cell_type": "code",
   "execution_count": 342,
   "metadata": {},
   "outputs": [
    {
     "data": {
      "application/vnd.jupyter.widget-view+json": {
       "model_id": "0489bfb40cb94460b522a4f61e231d97",
       "version_major": 2,
       "version_minor": 0
      },
      "text/plain": [
       "Canvas(toolbar=Toolbar(toolitems=[('Home', 'Reset original view', 'home', 'home'), ('Back', 'Back to previous …"
      ]
     },
     "metadata": {},
     "output_type": "display_data"
    },
    {
     "data": {
      "text/plain": [
       "Text(0.5, 36.72222222222221, 'predicted label')"
      ]
     },
     "execution_count": 342,
     "metadata": {},
     "output_type": "execute_result"
    }
   ],
   "source": [
    "plt.figure()\n",
    "mat = confusion_matrix(test_target_resampled.target, y_pred)\n",
    "sns.heatmap(mat, annot=True, fmt='d', cbar=True) \n",
    "plt.ylabel('true label')\n",
    "plt.xlabel('predicted label')"
   ]
  },
  {
   "cell_type": "code",
   "execution_count": 343,
   "metadata": {},
   "outputs": [],
   "source": [
    "modelNN = keras.models.Sequential([\n",
    "    keras.layers.Dense(100, activation=\"selu\",input_shape=(9,)),\n",
    "    keras.layers.Dense(100, activation=\"selu\"),\n",
    "    keras.layers.Dense(100, activation=\"selu\"),\n",
    "    keras.layers.Dense(100, activation=\"selu\"),\n",
    "    keras.layers.Dense(100, activation=\"selu\"),\n",
    "    keras.layers.Dense(8, activation=\"softmax\")\n",
    "])\n",
    "modelNN.compile(loss=\"sparse_categorical_crossentropy\",\n",
    "              optimizer=keras.optimizers.SGD(lr=0.002, momentum=0.8, nesterov=True),\n",
    "              metrics=[\"accuracy\"])"
   ]
  },
  {
   "cell_type": "code",
   "execution_count": 344,
   "metadata": {},
   "outputs": [
    {
     "name": "stdout",
     "output_type": "stream",
     "text": [
      "Model: \"sequential_6\"\n",
      "_________________________________________________________________\n",
      "Layer (type)                 Output Shape              Param #   \n",
      "=================================================================\n",
      "dense_24 (Dense)             (None, 100)               1000      \n",
      "_________________________________________________________________\n",
      "dense_25 (Dense)             (None, 100)               10100     \n",
      "_________________________________________________________________\n",
      "dense_26 (Dense)             (None, 100)               10100     \n",
      "_________________________________________________________________\n",
      "dense_27 (Dense)             (None, 100)               10100     \n",
      "_________________________________________________________________\n",
      "dense_28 (Dense)             (None, 100)               10100     \n",
      "_________________________________________________________________\n",
      "dense_29 (Dense)             (None, 8)                 808       \n",
      "=================================================================\n",
      "Total params: 42,208\n",
      "Trainable params: 42,208\n",
      "Non-trainable params: 0\n",
      "_________________________________________________________________\n"
     ]
    }
   ],
   "source": [
    "modelNN.summary()"
   ]
  },
  {
   "cell_type": "code",
   "execution_count": 345,
   "metadata": {
    "scrolled": true
   },
   "outputs": [
    {
     "name": "stdout",
     "output_type": "stream",
     "text": [
      "Epoch 1/20\n",
      "2505/2505 [==============================] - 3s 1ms/step - loss: 1.3547 - accuracy: 0.4943 - val_loss: 1.1868 - val_accuracy: 0.5324\n",
      "Epoch 2/20\n",
      "2505/2505 [==============================] - 3s 1ms/step - loss: 1.1748 - accuracy: 0.5492 - val_loss: 1.1785 - val_accuracy: 0.5449\n",
      "Epoch 3/20\n",
      "2505/2505 [==============================] - 3s 1ms/step - loss: 1.1220 - accuracy: 0.5711 - val_loss: 1.1209 - val_accuracy: 0.5629\n",
      "Epoch 4/20\n",
      "2505/2505 [==============================] - 3s 1ms/step - loss: 1.0870 - accuracy: 0.5801 - val_loss: 1.1093 - val_accuracy: 0.5729\n",
      "Epoch 5/20\n",
      "2505/2505 [==============================] - 3s 1ms/step - loss: 1.0634 - accuracy: 0.5926 - val_loss: 1.0309 - val_accuracy: 0.6053\n",
      "Epoch 6/20\n",
      "2505/2505 [==============================] - 3s 1ms/step - loss: 1.0442 - accuracy: 0.5974 - val_loss: 0.9945 - val_accuracy: 0.6043\n",
      "Epoch 7/20\n",
      "2505/2505 [==============================] - 3s 1ms/step - loss: 1.0294 - accuracy: 0.6043 - val_loss: 1.0258 - val_accuracy: 0.5983\n",
      "Epoch 8/20\n",
      "2505/2505 [==============================] - 3s 1ms/step - loss: 1.0185 - accuracy: 0.6062 - val_loss: 0.9919 - val_accuracy: 0.6113\n",
      "Epoch 9/20\n",
      "2505/2505 [==============================] - 4s 2ms/step - loss: 1.0081 - accuracy: 0.6080 - val_loss: 0.9702 - val_accuracy: 0.6257\n",
      "Epoch 10/20\n",
      "2505/2505 [==============================] - 4s 1ms/step - loss: 1.0013 - accuracy: 0.6124 - val_loss: 1.0089 - val_accuracy: 0.6193\n",
      "Epoch 11/20\n",
      "2505/2505 [==============================] - 3s 1ms/step - loss: 0.9898 - accuracy: 0.6165 - val_loss: 0.9519 - val_accuracy: 0.6372\n",
      "Epoch 12/20\n",
      "2505/2505 [==============================] - 3s 1ms/step - loss: 0.9857 - accuracy: 0.6179 - val_loss: 0.9968 - val_accuracy: 0.6252\n",
      "Epoch 13/20\n",
      "2505/2505 [==============================] - 4s 1ms/step - loss: 0.9786 - accuracy: 0.6212 - val_loss: 0.9602 - val_accuracy: 0.6248\n",
      "Epoch 14/20\n",
      "2505/2505 [==============================] - 4s 1ms/step - loss: 0.9734 - accuracy: 0.6223 - val_loss: 0.9863 - val_accuracy: 0.6133\n",
      "Epoch 15/20\n",
      "2505/2505 [==============================] - 3s 1ms/step - loss: 0.9667 - accuracy: 0.6249 - val_loss: 0.9299 - val_accuracy: 0.6507\n",
      "Epoch 16/20\n",
      "2505/2505 [==============================] - 3s 1ms/step - loss: 0.9642 - accuracy: 0.6258 - val_loss: 1.0171 - val_accuracy: 0.6063\n",
      "Epoch 17/20\n",
      "2505/2505 [==============================] - 3s 1ms/step - loss: 0.9586 - accuracy: 0.6274 - val_loss: 0.9009 - val_accuracy: 0.6417\n",
      "Epoch 18/20\n",
      "2505/2505 [==============================] - 4s 1ms/step - loss: 0.9536 - accuracy: 0.6276 - val_loss: 0.9440 - val_accuracy: 0.6397\n",
      "Epoch 19/20\n",
      "2505/2505 [==============================] - 3s 1ms/step - loss: 0.9511 - accuracy: 0.6294 - val_loss: 0.9094 - val_accuracy: 0.6467\n",
      "Epoch 20/20\n",
      "2505/2505 [==============================] - 3s 1ms/step - loss: 0.9462 - accuracy: 0.6318 - val_loss: 0.9287 - val_accuracy: 0.6377\n"
     ]
    }
   ],
   "source": [
    "history = modelNN.fit(x_train, y_train, epochs=20, validation_data=(x_test_small, y_test_small))"
   ]
  },
  {
   "cell_type": "code",
   "execution_count": 346,
   "metadata": {},
   "outputs": [
    {
     "name": "stdout",
     "output_type": "stream",
     "text": [
      "0.633764159888218\n"
     ]
    }
   ],
   "source": [
    "#test the NN on the full test subset\n",
    "y_pred = modelNN.predict(x_test)\n",
    "y_pred=np.argmax(y_pred,axis=1)\n",
    "score = accuracy_score(y_test, y_pred)\n",
    "print(score)"
   ]
  },
  {
   "cell_type": "code",
   "execution_count": 347,
   "metadata": {},
   "outputs": [
    {
     "name": "stdout",
     "output_type": "stream",
     "text": [
      "0.3393312101910828\n"
     ]
    }
   ],
   "source": [
    "#test the NN on the test observation\n",
    "y_pred = modelNN.predict(test_data_resampled.loc[:,'red':'stdB'])\n",
    "y_pred=np.argmax(y_pred,axis=1)\n",
    "score = accuracy_score(test_target_resampled.target, y_pred)\n",
    "print(score)"
   ]
  },
  {
   "cell_type": "code",
   "execution_count": 348,
   "metadata": {},
   "outputs": [
    {
     "data": {
      "application/vnd.jupyter.widget-view+json": {
       "model_id": "95f6eec18b2d4ab6a1f83b54bf2016ac",
       "version_major": 2,
       "version_minor": 0
      },
      "text/plain": [
       "Canvas(toolbar=Toolbar(toolitems=[('Home', 'Reset original view', 'home', 'home'), ('Back', 'Back to previous …"
      ]
     },
     "metadata": {},
     "output_type": "display_data"
    },
    {
     "data": {
      "text/plain": [
       "Text(0.5, 36.72222222222221, 'predicted label')"
      ]
     },
     "execution_count": 348,
     "metadata": {},
     "output_type": "execute_result"
    }
   ],
   "source": [
    "plt.figure()\n",
    "mat = confusion_matrix(test_target_resampled.target, y_pred)\n",
    "sns.heatmap(mat, annot=True, fmt='d', cbar=True) \n",
    "plt.ylabel('true label')\n",
    "plt.xlabel('predicted label')"
   ]
  },
  {
   "cell_type": "code",
   "execution_count": 221,
   "metadata": {},
   "outputs": [
    {
     "data": {
      "application/vnd.jupyter.widget-view+json": {
       "model_id": "8b357f3835f04f038aefc98201fbd4d4",
       "version_major": 2,
       "version_minor": 0
      },
      "text/plain": [
       "Canvas(toolbar=Toolbar(toolitems=[('Home', 'Reset original view', 'home', 'home'), ('Back', 'Back to previous …"
      ]
     },
     "metadata": {},
     "output_type": "display_data"
    },
    {
     "data": {
      "text/plain": [
       "<matplotlib.image.AxesImage at 0x1ed168eda30>"
      ]
     },
     "execution_count": 221,
     "metadata": {},
     "output_type": "execute_result"
    }
   ],
   "source": [
    "#show the data for the test observation(s)\n",
    "newpic=np.zeros(rgb[1].shape)\n",
    "data4plot=cleandata_test_all.loc[cleandata_test_all.obs==testingN[0]]\n",
    "newpic[data4plot.y.astype(int),data4plot.x.astype(int),0]=data4plot.red\n",
    "newpic[data4plot.y.astype(int),data4plot.x.astype(int),1]=data4plot.green\n",
    "newpic[data4plot.y.astype(int),data4plot.x.astype(int),2]=data4plot.blue\n",
    "plt.figure()\n",
    "plt.imshow(newpic.astype(int))"
   ]
  },
  {
   "cell_type": "markdown",
   "metadata": {},
   "source": [
    "step back: try to figure out how many components I should be able to expect to successfully capture"
   ]
  },
  {
   "cell_type": "code",
   "execution_count": 225,
   "metadata": {},
   "outputs": [],
   "source": [
    "scaler=StandardScaler()\n",
    "x_train_scaled=scaler.fit_transform(x_train)\n",
    "x_test_scaled=scaler.fit_transform(x_test)"
   ]
  },
  {
   "cell_type": "code",
   "execution_count": 227,
   "metadata": {},
   "outputs": [
    {
     "name": "stdout",
     "output_type": "stream",
     "text": [
      "Starting 0\n",
      "Starting 1\n",
      "Starting 2\n",
      "Starting 3\n",
      "Starting 4\n",
      "Starting 5\n",
      "Starting 6\n",
      "Starting 7\n"
     ]
    },
    {
     "data": {
      "application/vnd.jupyter.widget-view+json": {
       "model_id": "5a65f86bdaf3440498277008e83460e3",
       "version_major": 2,
       "version_minor": 0
      },
      "text/plain": [
       "Canvas(toolbar=Toolbar(toolitems=[('Home', 'Reset original view', 'home', 'home'), ('Back', 'Back to previous …"
      ]
     },
     "metadata": {},
     "output_type": "display_data"
    },
    {
     "data": {
      "text/plain": [
       "[<matplotlib.lines.Line2D at 0x1ed1a6a1ca0>]"
      ]
     },
     "execution_count": 227,
     "metadata": {},
     "output_type": "execute_result"
    }
   ],
   "source": [
    "from sklearn.cluster import KMeans\n",
    "intertias=np.zeros(8)\n",
    "for i in range(0,8):\n",
    "    print('Starting '+str(i))\n",
    "    clf=KMeans(n_clusters=i+1)\n",
    "    model=clf.fit(x_train_scaled)\n",
    "    intertias[i]=model.inertia_\n",
    "plt.figure()\n",
    "plt.plot(np.arange(8)+1,intertias)"
   ]
  },
  {
   "cell_type": "code",
   "execution_count": 228,
   "metadata": {
    "scrolled": false
   },
   "outputs": [
    {
     "name": "stdout",
     "output_type": "stream",
     "text": [
      "Starting 1\n",
      "Starting 2\n",
      "Starting 3\n",
      "Starting 4\n",
      "Starting 5\n",
      "Starting 6\n",
      "Starting 7\n"
     ]
    },
    {
     "data": {
      "application/vnd.jupyter.widget-view+json": {
       "model_id": "70e16e079bf64743b71712321ed3f3e6",
       "version_major": 2,
       "version_minor": 0
      },
      "text/plain": [
       "Canvas(toolbar=Toolbar(toolitems=[('Home', 'Reset original view', 'home', 'home'), ('Back', 'Back to previous …"
      ]
     },
     "metadata": {},
     "output_type": "display_data"
    },
    {
     "data": {
      "text/plain": [
       "[<matplotlib.lines.Line2D at 0x1ed1a6ddfa0>]"
      ]
     },
     "execution_count": 228,
     "metadata": {},
     "output_type": "execute_result"
    }
   ],
   "source": [
    "from sklearn.metrics import silhouette_score\n",
    "scores=np.zeros(8)\n",
    "for i in range(1,8):\n",
    "    print('Starting '+str(i))\n",
    "    clf=KMeans(n_clusters=i+1)\n",
    "    model=clf.fit(x_train_scaled)\n",
    "    y_pred=model.predict(x_test_scaled)\n",
    "    scores[i]=silhouette_score(x_test_scaled,y_pred)\n",
    "plt.figure()\n",
    "plt.plot(np.arange(8)+1,scores)"
   ]
  },
  {
   "cell_type": "code",
   "execution_count": 247,
   "metadata": {},
   "outputs": [
    {
     "data": {
      "application/vnd.jupyter.widget-view+json": {
       "model_id": "9ce5b3a82ac547f9b65f0e06ed37d5f4",
       "version_major": 2,
       "version_minor": 0
      },
      "text/plain": [
       "Canvas(toolbar=Toolbar(toolitems=[('Home', 'Reset original view', 'home', 'home'), ('Back', 'Back to previous …"
      ]
     },
     "metadata": {},
     "output_type": "display_data"
    },
    {
     "data": {
      "text/plain": [
       "<matplotlib.image.AxesImage at 0x1ed52082220>"
      ]
     },
     "execution_count": 247,
     "metadata": {},
     "output_type": "execute_result"
    }
   ],
   "source": [
    "#show distribution of the clusters\n",
    "clfKM=KMeans(n_clusters=2)\n",
    "model=clfKM.fit(x_train_scaled)\n",
    "data4plot=cleandata_train_all.loc[cleandata_train_all.obs==trainingN[3]]\n",
    "y_pred=model.predict(scaler.fit_transform(data4plot.loc[:,'red':'stdB']))\n",
    "newpic=np.zeros(rgb[1].shape[:2])-1\n",
    "newpic[data4plot.y.astype(int),data4plot.x.astype(int)]=y_pred\n",
    "plt.figure()\n",
    "plt.imshow(newpic.astype(int))"
   ]
  },
  {
   "cell_type": "code",
   "execution_count": 232,
   "metadata": {},
   "outputs": [
    {
     "name": "stdout",
     "output_type": "stream",
     "text": [
      "Starting 0\n",
      "Starting 1\n",
      "Starting 2\n",
      "Starting 3\n",
      "Starting 4\n",
      "Starting 5\n",
      "Starting 6\n",
      "Starting 7\n"
     ]
    },
    {
     "data": {
      "application/vnd.jupyter.widget-view+json": {
       "model_id": "d699fbce2e7548c18abe86d642f8409d",
       "version_major": 2,
       "version_minor": 0
      },
      "text/plain": [
       "Canvas(toolbar=Toolbar(toolitems=[('Home', 'Reset original view', 'home', 'home'), ('Back', 'Back to previous …"
      ]
     },
     "metadata": {},
     "output_type": "display_data"
    },
    {
     "data": {
      "text/plain": [
       "[<matplotlib.lines.Line2D at 0x1ed27d9bfa0>]"
      ]
     },
     "execution_count": 232,
     "metadata": {},
     "output_type": "execute_result"
    }
   ],
   "source": [
    "from sklearn.mixture import GaussianMixture\n",
    "bics=np.zeros(8)\n",
    "aics=np.zeros(8)\n",
    "for i in range(0,8):\n",
    "    print('Starting '+str(i))\n",
    "    clf=GaussianMixture(n_components=i+1)\n",
    "    model=clf.fit(x_train)\n",
    "    bics[i]=model.bic(x_train)\n",
    "    aics[i]=model.aic(x_train)\n",
    "plt.figure()\n",
    "plt.plot(np.arange(8)+1,aics)\n",
    "plt.plot(np.arange(8)+1,bics)"
   ]
  },
  {
   "cell_type": "code",
   "execution_count": 444,
   "metadata": {},
   "outputs": [
    {
     "name": "stdout",
     "output_type": "stream",
     "text": [
      "Starting obs 1\n",
      "Starting obs 2\n",
      "Starting obs 5\n",
      "Starting obs 6\n",
      "Starting obs 8\n",
      "Starting obs 9\n",
      "Starting obs 10\n",
      "Starting obs 4\n",
      "Starting obs 12\n",
      "Done!\n"
     ]
    }
   ],
   "source": [
    "#reconstruct the pictures to use in a CNN, then chop them into 11X11 squares for passing to the CNN \n",
    "subimagesize=13\n",
    "step=13\n",
    "nx=int(rgb[1].shape[1]/step)\n",
    "ny=int(rgb[1].shape[0]/step)\n",
    "subimagesTrain=np.zeros((nx*ny*len(trainingN),subimagesize,subimagesize,3))\n",
    "subimgtargetTrain=np.zeros(nx*ny*len(trainingN))-100\n",
    "subimagesTest=np.zeros((nx*ny*len(testingN),subimagesize,subimagesize,3))\n",
    "subimgtargetTest=np.zeros(nx*ny*len(testingN))-100\n",
    "subimagesVal=np.zeros((nx*ny*len(valN),subimagesize,subimagesize,3))\n",
    "subimgtargetVal=np.zeros(nx*ny*len(valN))-100\n",
    "train_i=0\n",
    "test_i=0\n",
    "val_i=0\n",
    "for j in obs:\n",
    "    print('Starting obs '+str(j))\n",
    "    if j in trainingN:\n",
    "        data=cleandata_train_all.copy()\n",
    "        targs=target_train_all.copy()\n",
    "        train_i+=1\n",
    "    elif j in testingN:\n",
    "        data=cleandata_test_all.copy()\n",
    "        targs=target_test_all.copy()\n",
    "        test_i+=1\n",
    "    elif j in valN:\n",
    "        data=cleandata_val_all.copy()\n",
    "        targs=target_val_all.copy()\n",
    "        val_i+=1\n",
    "    newpic=np.zeros(rgb[j].shape)\n",
    "    newtargpic=np.zeros(rgb[j].shape[:2])-100\n",
    "    data4plot=data.loc[data.obs==j]\n",
    "    targs4plot=targs.loc[targs.obs==j]\n",
    "    newpic[data4plot.y.astype(int),data4plot.x.astype(int),0]=data4plot.red\n",
    "    newpic[data4plot.y.astype(int),data4plot.x.astype(int),1]=data4plot.green\n",
    "    newpic[data4plot.y.astype(int),data4plot.x.astype(int),2]=data4plot.blue\n",
    "    newtargpic[targs4plot.y.astype(int),targs4plot.x.astype(int)]=targs4plot.target\n",
    "    \n",
    "    # now chop the images into squares\n",
    "    startx=0\n",
    "    endx=startx+subimagesize\n",
    "    for i in range(0,nx):\n",
    "        starty=0\n",
    "        endy=starty+subimagesize\n",
    "        for k in range(0,ny):\n",
    "            #print(i,k,stats.mode(newtargpic[starty:endy,startx:endx],axis=None))\n",
    "            modetarget=int(stats.mode(newtargpic[starty:endy,startx:endx],axis=None)[0])\n",
    "            if np.all(newpic[starty:endy,startx:endx,:]==0)|(modetarget==-100):\n",
    "                starty=starty+step\n",
    "                endy=starty+subimagesize\n",
    "                continue  #skip bad data\n",
    "            if j in trainingN:\n",
    "                subimagesTrain[(train_i-1)*nx*ny+ny*i+k,:,:,:]=newpic[starty:endy,startx:endx,:]\n",
    "                subimgtargetTrain[(train_i-1)*nx*ny+ny*i+k]=modetarget\n",
    "            elif j in testingN:\n",
    "                subimagesTest[(test_i-1)*nx*ny+ny*i+k,:,:,:]=newpic[starty:endy,startx:endx,:]\n",
    "                subimgtargetTest[(test_i-1)*nx*ny+ny*i+k]=modetarget\n",
    "            elif j in valN:\n",
    "                subimagesVal[(val_i-1)*nx*ny+ny*i+k,:,:,:]=newpic[starty:endy,startx:endx,:]\n",
    "                subimgtargetVal[(val_i-1)*nx*ny+ny*i+k]=modetarget\n",
    "            starty=starty+step\n",
    "            endy=starty+subimagesize\n",
    "        startx=startx+step\n",
    "        endx=startx+subimagesize\n",
    "subimagesTrain=subimagesTrain[subimgtargetTrain!=-100,:,:,:]\n",
    "subimgtargetTrain=subimgtargetTrain[subimgtargetTrain!=-100]      \n",
    "subimagesTest=subimagesTest[subimgtargetTest!=-100,:,:,:]\n",
    "subimgtargetTest=subimgtargetTest[subimgtargetTest!=-100]  \n",
    "subimagesVal=subimagesVal[subimgtargetVal!=-100,:,:,:]\n",
    "subimgtargetVal=subimgtargetVal[subimgtargetVal!=-100]  \n",
    "print('Done!')"
   ]
  },
  {
   "cell_type": "code",
   "execution_count": 445,
   "metadata": {
    "scrolled": true
   },
   "outputs": [
    {
     "name": "stdout",
     "output_type": "stream",
     "text": [
      "(95453, 13, 13, 3)\n",
      "(95453,)\n",
      "(9550, 13, 13, 3)\n",
      "(9550,)\n",
      "(13267, 13, 13, 3)\n",
      "(13267,)\n"
     ]
    }
   ],
   "source": [
    "print(subimagesTrain.shape)\n",
    "print(subimgtargetTrain.shape)\n",
    "print(subimagesTest.shape)\n",
    "print(subimgtargetTest.shape)\n",
    "print(subimagesVal.shape)\n",
    "print(subimgtargetVal.shape)"
   ]
  },
  {
   "cell_type": "code",
   "execution_count": 446,
   "metadata": {
    "scrolled": true
   },
   "outputs": [
    {
     "data": {
      "text/plain": [
       "6.0    59954\n",
       "5.0    21286\n",
       "7.0     5393\n",
       "0.0     3497\n",
       "4.0     2329\n",
       "1.0     1392\n",
       "2.0      873\n",
       "3.0      729\n",
       "dtype: int64"
      ]
     },
     "execution_count": 446,
     "metadata": {},
     "output_type": "execute_result"
    }
   ],
   "source": [
    "pd.Series(subimgtargetTrain).value_counts()"
   ]
  },
  {
   "cell_type": "code",
   "execution_count": 447,
   "metadata": {},
   "outputs": [
    {
     "data": {
      "text/plain": [
       "5.0    5553\n",
       "6.0    3068\n",
       "4.0     497\n",
       "2.0     170\n",
       "3.0     100\n",
       "1.0      92\n",
       "0.0      70\n",
       "dtype: int64"
      ]
     },
     "execution_count": 447,
     "metadata": {},
     "output_type": "execute_result"
    }
   ],
   "source": [
    "pd.Series(subimgtargetTest).value_counts()"
   ]
  },
  {
   "cell_type": "code",
   "execution_count": 448,
   "metadata": {
    "scrolled": true
   },
   "outputs": [
    {
     "data": {
      "text/plain": [
       "5.0    7903\n",
       "6.0    4153\n",
       "4.0     492\n",
       "1.0     328\n",
       "7.0     261\n",
       "3.0     130\n",
       "dtype: int64"
      ]
     },
     "execution_count": 448,
     "metadata": {},
     "output_type": "execute_result"
    }
   ],
   "source": [
    "pd.Series(subimgtargetVal).value_counts()"
   ]
  },
  {
   "cell_type": "code",
   "execution_count": 449,
   "metadata": {
    "scrolled": true
   },
   "outputs": [],
   "source": [
    "# resample the training observations' data to rebalance the classes\n",
    "training_reduction=1\n",
    "subimgtargetTrainDF=pd.Series(subimgtargetTrain)\n",
    "nsamp=int(training_reduction*(subimgtargetTrainDF.value_counts().sort_values().iloc[1]))\n",
    "dataresampledmat=np.zeros((nsamp,subimagesize,subimagesize,3,len(subimgtargetTrainDF.unique())))\n",
    "targetresampledmat=np.zeros((nsamp,len(subimgtargetTrainDF.unique())))\n",
    "for targ in subimgtargetTrainDF.unique():\n",
    "    dataresampledmat[:,:,:,:,int(targ)],targetresampledmat[:,int(targ)]=resample(subimagesTrain[subimgtargetTrain==targ,:,:,:],subimgtargetTrain[subimgtargetTrain==targ],n_samples=nsamp)\n",
    "data_img_resampled=np.vstack(np.moveaxis(dataresampledmat, -1, 0))\n",
    "targ_img_resampled=np.hstack(targetresampledmat.transpose())\n",
    "\n",
    "\n",
    "# resample the test observation's data to rebalance the classes\n",
    "testing_reduction=1\n",
    "subimgtargetTestDF=pd.Series(subimgtargetTest)\n",
    "nsamp=int(testing_reduction*(subimgtargetTestDF.value_counts().sort_values().iloc[1]))\n",
    "dataresampledmat=np.zeros((nsamp,subimagesize,subimagesize,3,len(subimgtargetTestDF.unique())))\n",
    "targetresampledmat=np.zeros((nsamp,len(subimgtargetTestDF.unique())))\n",
    "for targ in subimgtargetTestDF.unique():\n",
    "    dataresampledmat[:,:,:,:,int(targ)],targetresampledmat[:,int(targ)]=resample(subimagesTest[subimgtargetTest==targ,:,:,:],subimgtargetTest[subimgtargetTest==targ],n_samples=nsamp)\n",
    "data_test_img_resampled=np.vstack(np.moveaxis(dataresampledmat, -1, 0))\n",
    "targ_test_img_resampled=np.hstack(targetresampledmat.transpose())\n",
    "\n",
    "\n",
    "# do not rebalance the validation observation"
   ]
  },
  {
   "cell_type": "code",
   "execution_count": 450,
   "metadata": {},
   "outputs": [
    {
     "name": "stdout",
     "output_type": "stream",
     "text": [
      "(6984, 13, 13, 3)\n"
     ]
    },
    {
     "data": {
      "text/plain": [
       "0.0    873\n",
       "6.0    873\n",
       "5.0    873\n",
       "1.0    873\n",
       "4.0    873\n",
       "2.0    873\n",
       "3.0    873\n",
       "7.0    873\n",
       "dtype: int64"
      ]
     },
     "execution_count": 450,
     "metadata": {},
     "output_type": "execute_result"
    }
   ],
   "source": [
    "print(data_img_resampled.shape)\n",
    "pd.Series(targ_img_resampled).value_counts()"
   ]
  },
  {
   "cell_type": "code",
   "execution_count": 451,
   "metadata": {
    "scrolled": false
   },
   "outputs": [
    {
     "name": "stdout",
     "output_type": "stream",
     "text": [
      "(644, 13, 13, 3)\n"
     ]
    },
    {
     "data": {
      "text/plain": [
       "0.0    92\n",
       "3.0    92\n",
       "2.0    92\n",
       "5.0    92\n",
       "1.0    92\n",
       "4.0    92\n",
       "6.0    92\n",
       "dtype: int64"
      ]
     },
     "execution_count": 451,
     "metadata": {},
     "output_type": "execute_result"
    }
   ],
   "source": [
    "print(data_test_img_resampled.shape)\n",
    "pd.Series(targ_test_img_resampled).value_counts()"
   ]
  },
  {
   "cell_type": "code",
   "execution_count": 492,
   "metadata": {
    "scrolled": false
   },
   "outputs": [
    {
     "data": {
      "application/vnd.jupyter.widget-view+json": {
       "model_id": "edd2092e739a476e8ee117ae0c9e21e7",
       "version_major": 2,
       "version_minor": 0
      },
      "text/plain": [
       "Canvas(toolbar=Toolbar(toolitems=[('Home', 'Reset original view', 'home', 'home'), ('Back', 'Back to previous …"
      ]
     },
     "metadata": {},
     "output_type": "display_data"
    },
    {
     "data": {
      "text/plain": [
       "<matplotlib.image.AxesImage at 0x1edd4b171c0>"
      ]
     },
     "execution_count": 492,
     "metadata": {},
     "output_type": "execute_result"
    }
   ],
   "source": [
    "plt.figure()\n",
    "plt.imshow(x_train[1672,:,:,:].astype(int))"
   ]
  },
  {
   "cell_type": "code",
   "execution_count": 452,
   "metadata": {},
   "outputs": [],
   "source": [
    "x_train_all, x_validate, y_train_all, y_validate = model_selection.train_test_split(data_img_resampled, targ_img_resampled, test_size=0.1)\n",
    "# now split the training data further into training and testing\n",
    "x_train, x_test, y_train, y_test = model_selection.train_test_split(x_train_all, y_train_all, test_size=0.2)\n",
    "# now split the training data further for plotting and use when the fitting runs slowly\n",
    "#x_train_small, x_test_small, y_train_small, y_test_small = model_selection.train_test_split(x_train_all, y_train_all, test_size=0.02,train_size=0.02)"
   ]
  },
  {
   "cell_type": "code",
   "execution_count": 453,
   "metadata": {},
   "outputs": [],
   "source": [
    "modelCNN = keras.models.Sequential([\n",
    "    keras.layers.Conv2D(20, 7, activation=\"selu\", padding=\"same\",\n",
    "                        input_shape=x_train[0,:,:,:].shape),\n",
    "    keras.layers.Conv2D(100, 5, activation=\"selu\", padding=\"same\"),\n",
    "    keras.layers.Conv2D(100, 5, activation=\"selu\", padding=\"same\"),\n",
    "    keras.layers.MaxPooling2D(2),\n",
    "    keras.layers.Conv2D(120, 3, activation=\"selu\", padding=\"same\"),\n",
    "    keras.layers.Conv2D(120, 3, activation=\"selu\", padding=\"same\"),\n",
    "    keras.layers.MaxPooling2D(2),\n",
    "    keras.layers.Flatten(),\n",
    "    keras.layers.Dense(100, activation=\"selu\"),\n",
    "    keras.layers.Dropout(0.5),\n",
    "    keras.layers.Dense(40, activation=\"selu\"),\n",
    "    keras.layers.Dropout(0.5),\n",
    "    keras.layers.Dense(8, activation=\"softmax\")\n",
    "])"
   ]
  },
  {
   "cell_type": "code",
   "execution_count": 454,
   "metadata": {
    "scrolled": false
   },
   "outputs": [
    {
     "name": "stdout",
     "output_type": "stream",
     "text": [
      "Model: \"sequential_14\"\n",
      "_________________________________________________________________\n",
      "Layer (type)                 Output Shape              Param #   \n",
      "=================================================================\n",
      "conv2d_45 (Conv2D)           (None, 13, 13, 20)        2960      \n",
      "_________________________________________________________________\n",
      "conv2d_46 (Conv2D)           (None, 13, 13, 100)       50100     \n",
      "_________________________________________________________________\n",
      "conv2d_47 (Conv2D)           (None, 13, 13, 100)       250100    \n",
      "_________________________________________________________________\n",
      "max_pooling2d_23 (MaxPooling (None, 6, 6, 100)         0         \n",
      "_________________________________________________________________\n",
      "conv2d_48 (Conv2D)           (None, 6, 6, 120)         108120    \n",
      "_________________________________________________________________\n",
      "conv2d_49 (Conv2D)           (None, 6, 6, 120)         129720    \n",
      "_________________________________________________________________\n",
      "max_pooling2d_24 (MaxPooling (None, 3, 3, 120)         0         \n",
      "_________________________________________________________________\n",
      "flatten_11 (Flatten)         (None, 1080)              0         \n",
      "_________________________________________________________________\n",
      "dense_51 (Dense)             (None, 100)               108100    \n",
      "_________________________________________________________________\n",
      "dropout_22 (Dropout)         (None, 100)               0         \n",
      "_________________________________________________________________\n",
      "dense_52 (Dense)             (None, 40)                4040      \n",
      "_________________________________________________________________\n",
      "dropout_23 (Dropout)         (None, 40)                0         \n",
      "_________________________________________________________________\n",
      "dense_53 (Dense)             (None, 8)                 328       \n",
      "=================================================================\n",
      "Total params: 653,468\n",
      "Trainable params: 653,468\n",
      "Non-trainable params: 0\n",
      "_________________________________________________________________\n"
     ]
    }
   ],
   "source": [
    "modelCNN.summary()"
   ]
  },
  {
   "cell_type": "code",
   "execution_count": 455,
   "metadata": {},
   "outputs": [],
   "source": [
    "modelCNN.compile(loss=\"sparse_categorical_crossentropy\",\n",
    "              optimizer=keras.optimizers.SGD(lr=0.02),\n",
    "              metrics=[\"accuracy\"])"
   ]
  },
  {
   "cell_type": "code",
   "execution_count": 456,
   "metadata": {},
   "outputs": [
    {
     "name": "stdout",
     "output_type": "stream",
     "text": [
      "Epoch 1/20\n",
      "158/158 [==============================] - 26s 168ms/step - loss: 3.0536 - accuracy: 0.1784 - val_loss: 2.0768 - val_accuracy: 0.1854\n",
      "Epoch 2/20\n",
      "158/158 [==============================] - 28s 175ms/step - loss: 1.8288 - accuracy: 0.2967 - val_loss: 1.9358 - val_accuracy: 0.2593\n",
      "Epoch 3/20\n",
      "158/158 [==============================] - 28s 177ms/step - loss: 1.6849 - accuracy: 0.3228 - val_loss: 3.0083 - val_accuracy: 0.1822\n",
      "Epoch 4/20\n",
      "158/158 [==============================] - 28s 180ms/step - loss: 1.6533 - accuracy: 0.3620 - val_loss: 1.9340 - val_accuracy: 0.2721\n",
      "Epoch 5/20\n",
      "158/158 [==============================] - 31s 196ms/step - loss: 1.5685 - accuracy: 0.3978 - val_loss: 1.5285 - val_accuracy: 0.4177\n",
      "Epoch 6/20\n",
      "158/158 [==============================] - 29s 182ms/step - loss: 1.5189 - accuracy: 0.4113 - val_loss: 2.3145 - val_accuracy: 0.2498\n",
      "Epoch 7/20\n",
      "158/158 [==============================] - 29s 181ms/step - loss: 1.4701 - accuracy: 0.4362 - val_loss: 2.4200 - val_accuracy: 0.2586\n",
      "Epoch 8/20\n",
      "158/158 [==============================] - 29s 182ms/step - loss: 1.4541 - accuracy: 0.4334 - val_loss: 1.4183 - val_accuracy: 0.4304\n",
      "Epoch 9/20\n",
      "158/158 [==============================] - 28s 176ms/step - loss: 1.3877 - accuracy: 0.4672 - val_loss: 2.0208 - val_accuracy: 0.3023\n",
      "Epoch 10/20\n",
      "158/158 [==============================] - 27s 173ms/step - loss: 1.3672 - accuracy: 0.4706 - val_loss: 1.4874 - val_accuracy: 0.4240\n",
      "Epoch 11/20\n",
      "158/158 [==============================] - 28s 177ms/step - loss: 1.3061 - accuracy: 0.5010 - val_loss: 1.6304 - val_accuracy: 0.3763\n",
      "Epoch 12/20\n",
      "158/158 [==============================] - 28s 177ms/step - loss: 1.2735 - accuracy: 0.5125 - val_loss: 1.8467 - val_accuracy: 0.3548\n",
      "Epoch 13/20\n",
      "158/158 [==============================] - 28s 177ms/step - loss: 1.2183 - accuracy: 0.5390 - val_loss: 1.3659 - val_accuracy: 0.4813\n",
      "Epoch 14/20\n",
      "158/158 [==============================] - 28s 175ms/step - loss: 1.1739 - accuracy: 0.5473 - val_loss: 1.4755 - val_accuracy: 0.4487\n",
      "Epoch 15/20\n",
      "158/158 [==============================] - 29s 182ms/step - loss: 1.1011 - accuracy: 0.5837 - val_loss: 1.3560 - val_accuracy: 0.4885\n",
      "Epoch 16/20\n",
      "158/158 [==============================] - 28s 179ms/step - loss: 1.0704 - accuracy: 0.6000 - val_loss: 1.6392 - val_accuracy: 0.4543\n",
      "Epoch 17/20\n",
      "158/158 [==============================] - 28s 178ms/step - loss: 1.0215 - accuracy: 0.6152 - val_loss: 1.6909 - val_accuracy: 0.4527\n",
      "Epoch 18/20\n",
      "158/158 [==============================] - 28s 178ms/step - loss: 0.9591 - accuracy: 0.6480 - val_loss: 1.4101 - val_accuracy: 0.5084\n",
      "Epoch 19/20\n",
      "158/158 [==============================] - 28s 178ms/step - loss: 0.9095 - accuracy: 0.6677 - val_loss: 1.4553 - val_accuracy: 0.5251\n",
      "Epoch 20/20\n",
      "158/158 [==============================] - 28s 179ms/step - loss: 0.8289 - accuracy: 0.6919 - val_loss: 1.3315 - val_accuracy: 0.5744\n"
     ]
    }
   ],
   "source": [
    "history = modelCNN.fit(x_train/ 255.0, y_train, epochs=20,\n",
    "                     validation_data=(x_test/255., y_test))"
   ]
  },
  {
   "cell_type": "code",
   "execution_count": 457,
   "metadata": {
    "scrolled": true
   },
   "outputs": [
    {
     "name": "stdout",
     "output_type": "stream",
     "text": [
      "40/40 [==============================] - 2s 42ms/step - loss: 1.3315 - accuracy: 0.5744\n"
     ]
    },
    {
     "data": {
      "text/plain": [
       "[1.3314628601074219, 0.5743834376335144]"
      ]
     },
     "execution_count": 457,
     "metadata": {},
     "output_type": "execute_result"
    }
   ],
   "source": [
    "modelCNN.evaluate(x_test/255., y_test)"
   ]
  },
  {
   "cell_type": "code",
   "execution_count": 462,
   "metadata": {},
   "outputs": [
    {
     "name": "stdout",
     "output_type": "stream",
     "text": [
      "0.2717391304347826\n"
     ]
    }
   ],
   "source": [
    "#test the CNN on the test observation\n",
    "y_pred = modelCNN.predict(data_test_img_resampled/255.)\n",
    "y_pred=np.argmax(y_pred,axis=1)\n",
    "score = accuracy_score(targ_test_img_resampled, y_pred)\n",
    "print(score)"
   ]
  },
  {
   "cell_type": "code",
   "execution_count": 463,
   "metadata": {},
   "outputs": [
    {
     "data": {
      "application/vnd.jupyter.widget-view+json": {
       "model_id": "3409a967263042dcbc47ded057a3b95a",
       "version_major": 2,
       "version_minor": 0
      },
      "text/plain": [
       "Canvas(toolbar=Toolbar(toolitems=[('Home', 'Reset original view', 'home', 'home'), ('Back', 'Back to previous …"
      ]
     },
     "metadata": {},
     "output_type": "display_data"
    },
    {
     "data": {
      "text/plain": [
       "Text(0.5, 36.72222222222221, 'predicted label')"
      ]
     },
     "execution_count": 463,
     "metadata": {},
     "output_type": "execute_result"
    }
   ],
   "source": [
    "plt.figure()\n",
    "mat = confusion_matrix(targ_test_img_resampled, y_pred)\n",
    "sns.heatmap(mat, annot=True, fmt='d', cbar=True) \n",
    "plt.ylabel('true label')\n",
    "plt.xlabel('predicted label')"
   ]
  },
  {
   "cell_type": "code",
   "execution_count": 470,
   "metadata": {},
   "outputs": [],
   "source": [
    "x4RF=np.reshape(x_train,(len(x_train),-1))\n",
    "x4RFtest=np.reshape(x_test,(len(x_test),-1))"
   ]
  },
  {
   "cell_type": "code",
   "execution_count": 521,
   "metadata": {
    "scrolled": true
   },
   "outputs": [
    {
     "name": "stdout",
     "output_type": "stream",
     "text": [
      "0.7008750994431185\n"
     ]
    }
   ],
   "source": [
    "RFclf=RandomForestClassifier(max_depth=15,n_estimators=500,verbose=0)\n",
    "modelRF=RFclf.fit(x4RF,y_train)\n",
    "y_pred = modelRF.predict(x4RFtest)\n",
    "score = accuracy_score(y_test, y_pred)\n",
    "print(score)"
   ]
  },
  {
   "cell_type": "code",
   "execution_count": 522,
   "metadata": {},
   "outputs": [
    {
     "name": "stdout",
     "output_type": "stream",
     "text": [
      "0.28726708074534163\n"
     ]
    }
   ],
   "source": [
    "x4RFtest2=np.reshape(data_test_img_resampled,(len(data_test_img_resampled),-1))\n",
    "y_pred = modelRF.predict(x4RFtest2)\n",
    "score = accuracy_score(targ_test_img_resampled, y_pred)\n",
    "print(score)"
   ]
  },
  {
   "cell_type": "code",
   "execution_count": null,
   "metadata": {},
   "outputs": [],
   "source": []
  },
  {
   "cell_type": "code",
   "execution_count": 494,
   "metadata": {},
   "outputs": [
    {
     "data": {
      "text/plain": [
       "'white'"
      ]
     },
     "execution_count": 494,
     "metadata": {},
     "output_type": "execute_result"
    }
   ],
   "source": [
    "colorlabels[6]"
   ]
  },
  {
   "cell_type": "code",
   "execution_count": 525,
   "metadata": {},
   "outputs": [],
   "source": [
    "y_train_reduced=y_train.copy()\n",
    "y_train_reduced[(y_train_reduced<5)]=5\n",
    "y_test_reduced=y_test.copy()\n",
    "y_test_reduced[(y_test_reduced<5)]=5\n",
    "y_test_reduced2=targ_test_img_resampled.copy()\n",
    "y_test_reduced2[(y_test_reduced2<5)]=5\n",
    "y_val_reduced=y_validate.copy()\n",
    "y_val_reduced[(y_val_reduced<5)]=5"
   ]
  },
  {
   "cell_type": "code",
   "execution_count": 515,
   "metadata": {},
   "outputs": [
    {
     "name": "stdout",
     "output_type": "stream",
     "text": [
      "Epoch 1/2\n",
      "158/158 [==============================] - 31s 194ms/step - loss: 0.4485 - accuracy: 0.8829 - val_loss: 0.3140 - val_accuracy: 0.8918\n",
      "Epoch 2/2\n",
      "158/158 [==============================] - 30s 189ms/step - loss: 0.1426 - accuracy: 0.9475 - val_loss: 0.2785 - val_accuracy: 0.9244\n"
     ]
    }
   ],
   "source": [
    "history = modelCNN.fit(x_train/ 255.0, y_train_reduced, epochs=4,\n",
    "                     validation_data=(x_test/255., y_test_reduced))"
   ]
  },
  {
   "cell_type": "code",
   "execution_count": 516,
   "metadata": {},
   "outputs": [
    {
     "name": "stdout",
     "output_type": "stream",
     "text": [
      "0.9254658385093167\n"
     ]
    }
   ],
   "source": [
    "#test the CNN on the test observation\n",
    "y_pred = modelCNN.predict(data_test_img_resampled/255.)\n",
    "y_pred=np.argmax(y_pred,axis=1)\n",
    "score = accuracy_score(y_test_reduced2, y_pred)\n",
    "print(score)"
   ]
  },
  {
   "cell_type": "code",
   "execution_count": 517,
   "metadata": {},
   "outputs": [
    {
     "data": {
      "application/vnd.jupyter.widget-view+json": {
       "model_id": "836d3af7482a4b44b58f905ae00bbf18",
       "version_major": 2,
       "version_minor": 0
      },
      "text/plain": [
       "Canvas(toolbar=Toolbar(toolitems=[('Home', 'Reset original view', 'home', 'home'), ('Back', 'Back to previous …"
      ]
     },
     "metadata": {},
     "output_type": "display_data"
    },
    {
     "data": {
      "text/plain": [
       "Text(0.5, 36.72222222222221, 'predicted label')"
      ]
     },
     "execution_count": 517,
     "metadata": {},
     "output_type": "execute_result"
    }
   ],
   "source": [
    "plt.figure()\n",
    "mat = confusion_matrix(y_test_reduced2, y_pred)\n",
    "sns.heatmap(mat, annot=True, fmt='d', cbar=True) \n",
    "plt.ylabel('true label')\n",
    "plt.xlabel('predicted label')"
   ]
  },
  {
   "cell_type": "code",
   "execution_count": 527,
   "metadata": {},
   "outputs": [
    {
     "name": "stdout",
     "output_type": "stream",
     "text": [
      "0.9220365950676214\n"
     ]
    }
   ],
   "source": [
    "RFclf=RandomForestClassifier(max_depth=15,n_estimators=500,verbose=0)\n",
    "modelRF=RFclf.fit(x4RF,y_train_reduced)\n",
    "y_pred = modelRF.predict(x4RFtest)\n",
    "score = accuracy_score(y_test_reduced, y_pred)\n",
    "print(score)"
   ]
  },
  {
   "cell_type": "code",
   "execution_count": 528,
   "metadata": {},
   "outputs": [
    {
     "name": "stdout",
     "output_type": "stream",
     "text": [
      "0.953416149068323\n"
     ]
    }
   ],
   "source": [
    "x4RFtest2=np.reshape(data_test_img_resampled,(len(data_test_img_resampled),-1))\n",
    "y_pred = modelRF.predict(x4RFtest2)\n",
    "score = accuracy_score(y_test_reduced2, y_pred)\n",
    "print(score)"
   ]
  },
  {
   "cell_type": "code",
   "execution_count": 529,
   "metadata": {},
   "outputs": [
    {
     "data": {
      "application/vnd.jupyter.widget-view+json": {
       "model_id": "bf45393032324b1fa10795e98b258c73",
       "version_major": 2,
       "version_minor": 0
      },
      "text/plain": [
       "Canvas(toolbar=Toolbar(toolitems=[('Home', 'Reset original view', 'home', 'home'), ('Back', 'Back to previous …"
      ]
     },
     "metadata": {},
     "output_type": "display_data"
    },
    {
     "data": {
      "text/plain": [
       "Text(0.5, 36.72222222222221, 'predicted label')"
      ]
     },
     "execution_count": 529,
     "metadata": {},
     "output_type": "execute_result"
    }
   ],
   "source": [
    "plt.figure()\n",
    "mat = confusion_matrix(y_test_reduced2, y_pred)\n",
    "sns.heatmap(mat, annot=True, fmt='d', cbar=True) \n",
    "plt.ylabel('true label')\n",
    "plt.xlabel('predicted label')"
   ]
  },
  {
   "cell_type": "code",
   "execution_count": null,
   "metadata": {},
   "outputs": [],
   "source": []
  },
  {
   "cell_type": "code",
   "execution_count": null,
   "metadata": {},
   "outputs": [],
   "source": []
  },
  {
   "cell_type": "code",
   "execution_count": null,
   "metadata": {},
   "outputs": [],
   "source": []
  },
  {
   "cell_type": "code",
   "execution_count": null,
   "metadata": {},
   "outputs": [],
   "source": []
  },
  {
   "cell_type": "code",
   "execution_count": 531,
   "metadata": {},
   "outputs": [
    {
     "name": "stdout",
     "output_type": "stream",
     "text": [
      "0.9084406294706724\n"
     ]
    }
   ],
   "source": [
    "x4RFval=np.reshape(x_validate,(len(x_validate),-1))\n",
    "y_pred = modelRF.predict(x4RFval)\n",
    "score = accuracy_score(y_val_reduced, y_pred)\n",
    "print(score)"
   ]
  },
  {
   "cell_type": "code",
   "execution_count": 533,
   "metadata": {},
   "outputs": [
    {
     "data": {
      "text/plain": [
       "(13267, 13, 13, 3)"
      ]
     },
     "execution_count": 533,
     "metadata": {},
     "output_type": "execute_result"
    }
   ],
   "source": [
    "subimagesVal.shape"
   ]
  },
  {
   "cell_type": "code",
   "execution_count": 536,
   "metadata": {},
   "outputs": [],
   "source": [
    "y_val_reduced2=subimgtargetVal.copy()\n",
    "y_val_reduced2[(y_val_reduced2<5)]=5"
   ]
  },
  {
   "cell_type": "code",
   "execution_count": 537,
   "metadata": {},
   "outputs": [
    {
     "name": "stdout",
     "output_type": "stream",
     "text": [
      "0.9467852566518429\n"
     ]
    }
   ],
   "source": [
    "#test the RF on the val observation\n",
    "x4RFval2=np.reshape(subimagesVal,(len(subimagesVal),-1))\n",
    "y_pred = modelRF.predict(x4RFval2)\n",
    "score = accuracy_score(y_val_reduced2, y_pred)\n",
    "print(score)"
   ]
  },
  {
   "cell_type": "code",
   "execution_count": 538,
   "metadata": {},
   "outputs": [
    {
     "data": {
      "application/vnd.jupyter.widget-view+json": {
       "model_id": "68cb4021f9f84603b7b8f3897ece42ea",
       "version_major": 2,
       "version_minor": 0
      },
      "text/plain": [
       "Canvas(toolbar=Toolbar(toolitems=[('Home', 'Reset original view', 'home', 'home'), ('Back', 'Back to previous …"
      ]
     },
     "metadata": {},
     "output_type": "display_data"
    },
    {
     "data": {
      "text/plain": [
       "Text(0.5, 36.72222222222221, 'predicted label')"
      ]
     },
     "execution_count": 538,
     "metadata": {},
     "output_type": "execute_result"
    }
   ],
   "source": [
    "plt.figure()\n",
    "mat = confusion_matrix(y_val_reduced2, y_pred)\n",
    "sns.heatmap(mat, annot=True, fmt='d', cbar=True) \n",
    "plt.ylabel('true label')\n",
    "plt.xlabel('predicted label')"
   ]
  },
  {
   "cell_type": "code",
   "execution_count": 542,
   "metadata": {},
   "outputs": [
    {
     "data": {
      "application/vnd.jupyter.widget-view+json": {
       "model_id": "d1719f1e9a754f14bac6bf47c22f7728",
       "version_major": 2,
       "version_minor": 0
      },
      "text/plain": [
       "Canvas(toolbar=Toolbar(toolitems=[('Home', 'Reset original view', 'home', 'home'), ('Back', 'Back to previous …"
      ]
     },
     "metadata": {},
     "output_type": "display_data"
    },
    {
     "data": {
      "text/plain": [
       "<matplotlib.image.AxesImage at 0x1ee0eb09b80>"
      ]
     },
     "execution_count": 542,
     "metadata": {},
     "output_type": "execute_result"
    }
   ],
   "source": [
    "plt.figure()\n",
    "plt.imshow(rgb[12])"
   ]
  },
  {
   "cell_type": "code",
   "execution_count": 543,
   "metadata": {},
   "outputs": [
    {
     "data": {
      "application/vnd.jupyter.widget-view+json": {
       "model_id": "a068c94682ea4b5f9060dcba6af83c5a",
       "version_major": 2,
       "version_minor": 0
      },
      "text/plain": [
       "Canvas(toolbar=Toolbar(toolitems=[('Home', 'Reset original view', 'home', 'home'), ('Back', 'Back to previous …"
      ]
     },
     "metadata": {},
     "output_type": "display_data"
    },
    {
     "data": {
      "text/plain": [
       "<matplotlib.image.AxesImage at 0x1ee0eb68790>"
      ]
     },
     "execution_count": 543,
     "metadata": {},
     "output_type": "execute_result"
    }
   ],
   "source": [
    "plt.figure()\n",
    "plt.imshow(conc[12])"
   ]
  },
  {
   "cell_type": "code",
   "execution_count": null,
   "metadata": {},
   "outputs": [],
   "source": []
  }
 ],
 "metadata": {
  "kernelspec": {
   "display_name": "Python 3",
   "language": "python",
   "name": "python3"
  },
  "language_info": {
   "codemirror_mode": {
    "name": "ipython",
    "version": 3
   },
   "file_extension": ".py",
   "mimetype": "text/x-python",
   "name": "python",
   "nbconvert_exporter": "python",
   "pygments_lexer": "ipython3",
   "version": "3.8.8"
  }
 },
 "nbformat": 4,
 "nbformat_minor": 4
}
