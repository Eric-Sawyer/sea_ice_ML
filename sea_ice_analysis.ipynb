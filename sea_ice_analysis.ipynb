{
 "cells": [
  {
   "cell_type": "markdown",
   "metadata": {},
   "source": [
    "first let's test things!"
   ]
  },
  {
   "cell_type": "code",
   "execution_count": 80,
   "metadata": {},
   "outputs": [],
   "source": [
    "import numpy as np\n",
    "import matplotlib.pyplot as plt\n",
    "import sklearn as sk\n",
    "from sklearn.metrics import accuracy_score, confusion_matrix\n",
    "from sklearn import model_selection\n",
    "from sklearn.metrics import confusion_matrix\n",
    "import pandas as pd\n",
    "import seaborn as sns\n",
    "plt.rcParams['figure.figsize'] = [6, 6]\n",
    "%matplotlib widget\n",
    "from PIL import Image\n",
    "from tensorflow import keras"
   ]
  },
  {
   "cell_type": "code",
   "execution_count": 2,
   "metadata": {},
   "outputs": [],
   "source": [
    "# load the satelite images as well as the targets: the ice concentrations and types ('stage')\n",
    "# separate folder for each month's data\n",
    "rgb={}\n",
    "conc={}\n",
    "stage={}\n",
    "for i in range(1,13):\n",
    "    rgb[i]=np.asarray(Image.open(str(i)+'/rgb.png'))[:,:,:3] # don't need the transparency value of the png\n",
    "    stage[i]=np.asarray(Image.open(str(i)+'/stage.png'))[:,:,:3]\n",
    "    conc[i]=np.asarray(Image.open(str(i)+'/conc.png'))[:,:,:3]"
   ]
  },
  {
   "cell_type": "code",
   "execution_count": 3,
   "metadata": {},
   "outputs": [
    {
     "data": {
      "application/vnd.jupyter.widget-view+json": {
       "model_id": "d3e6e784f38c4ad9a898abd67a46fd52",
       "version_major": 2,
       "version_minor": 0
      },
      "text/plain": [
       "Canvas(toolbar=Toolbar(toolitems=[('Home', 'Reset original view', 'home', 'home'), ('Back', 'Back to previous …"
      ]
     },
     "metadata": {},
     "output_type": "display_data"
    },
    {
     "data": {
      "text/plain": [
       "<matplotlib.image.AxesImage at 0x18569fa91f0>"
      ]
     },
     "execution_count": 3,
     "metadata": {},
     "output_type": "execute_result"
    }
   ],
   "source": [
    "plt.figure()\n",
    "plt.imshow(rgb[1])"
   ]
  },
  {
   "cell_type": "code",
   "execution_count": 4,
   "metadata": {},
   "outputs": [
    {
     "data": {
      "application/vnd.jupyter.widget-view+json": {
       "model_id": "618faa16848f402e8a2cc0558d997c79",
       "version_major": 2,
       "version_minor": 0
      },
      "text/plain": [
       "Canvas(toolbar=Toolbar(toolitems=[('Home', 'Reset original view', 'home', 'home'), ('Back', 'Back to previous …"
      ]
     },
     "metadata": {},
     "output_type": "display_data"
    },
    {
     "data": {
      "text/plain": [
       "<matplotlib.image.AxesImage at 0x1853a2f25e0>"
      ]
     },
     "execution_count": 4,
     "metadata": {},
     "output_type": "execute_result"
    }
   ],
   "source": [
    "plt.figure()\n",
    "plt.imshow(conc[1])"
   ]
  },
  {
   "cell_type": "code",
   "execution_count": 22,
   "metadata": {},
   "outputs": [],
   "source": [
    "indices = np.moveaxis(np.indices(rgb[1].shape)[0:2,:,:,0], 0, 2)\n",
    "allArray = np.dstack((indices, rgb[1])).reshape((-1, 5))\n",
    "targetarray = np.dstack((indices, conc[1])).reshape((-1, 5))\n",
    "data = pd.DataFrame(allArray, columns=['y', 'x', 'red','green','blue'])\n",
    "targetDF = pd.DataFrame(targetarray, columns=['y', 'x', 'red','green','blue'])"
   ]
  },
  {
   "cell_type": "code",
   "execution_count": 24,
   "metadata": {},
   "outputs": [
    {
     "name": "stdout",
     "output_type": "stream",
     "text": [
      "(8697360, 5)\n",
      "(8697360, 5)\n"
     ]
    }
   ],
   "source": [
    "print(data.shape)\n",
    "print(targetDF.shape)"
   ]
  },
  {
   "cell_type": "code",
   "execution_count": 37,
   "metadata": {},
   "outputs": [],
   "source": [
    "forbiddencolors=np.array(((135,135,135),(79,255,99),(255,255,255),(0,0,0)))\n",
    "colorlabels=['cyan','green','yellow','offyellow','orange','red','white','gray']\n",
    "colors=np.array(((0,233,233),(57,163,73),(255,251,7),(252,215,0),(255,128,1),(227,26,28),(255,255,255),(135,135,135)))"
   ]
  },
  {
   "cell_type": "code",
   "execution_count": 47,
   "metadata": {
    "scrolled": true
   },
   "outputs": [],
   "source": [
    "datamatch=pd.Series(np.ones(len(data), dtype=bool))\n",
    "targetcolormatch=pd.Series(np.zeros(len(data), dtype=bool))\n",
    "for i in range(0,len(forbiddencolors)):\n",
    "    datamatch=datamatch&(~((data.loc[:,'red']==forbiddencolors[i,0])&(data.loc[:,'green']==forbiddencolors[i,1])&(data.loc[:,'blue']==forbiddencolors[i,2])))\n",
    "for i in range(0,len(colors)):\n",
    "    targetcolormatch=targetcolormatch|((targetDF.loc[:,'red']==colors[i,0])&(targetDF.loc[:,'green']==colors[i,1])&(targetDF.loc[:,'blue']==colors[i,2]))\n",
    "fullmatch=datamatch & targetcolormatch\n",
    "cleandata=data.loc[fullmatch,:]\n",
    "cleantargets=targetDF.loc[fullmatch,:]"
   ]
  },
  {
   "cell_type": "code",
   "execution_count": 48,
   "metadata": {},
   "outputs": [
    {
     "name": "stdout",
     "output_type": "stream",
     "text": [
      "(1943723, 5)\n",
      "(1943723, 5)\n"
     ]
    }
   ],
   "source": [
    "print(cleandata.shape)\n",
    "print(cleantargets.shape)"
   ]
  },
  {
   "cell_type": "code",
   "execution_count": 49,
   "metadata": {},
   "outputs": [],
   "source": [
    "#repopulate the picture with only the data shown\n",
    "newpic=np.zeros(rgb[1].shape)\n",
    "newpic[cleandata.y,cleandata.x,0]=cleandata.red\n",
    "newpic[cleandata.y,cleandata.x,1]=cleandata.green\n",
    "newpic[cleandata.y,cleandata.x,2]=cleandata.blue"
   ]
  },
  {
   "cell_type": "code",
   "execution_count": 50,
   "metadata": {},
   "outputs": [
    {
     "data": {
      "application/vnd.jupyter.widget-view+json": {
       "model_id": "1c193e53f0b440b096926cc96bf5ae02",
       "version_major": 2,
       "version_minor": 0
      },
      "text/plain": [
       "Canvas(toolbar=Toolbar(toolitems=[('Home', 'Reset original view', 'home', 'home'), ('Back', 'Back to previous …"
      ]
     },
     "metadata": {},
     "output_type": "display_data"
    },
    {
     "data": {
      "text/plain": [
       "<matplotlib.image.AxesImage at 0x1853d1d7a30>"
      ]
     },
     "execution_count": 50,
     "metadata": {},
     "output_type": "execute_result"
    }
   ],
   "source": [
    "plt.figure()\n",
    "plt.imshow(newpic.astype(int))"
   ]
  },
  {
   "cell_type": "code",
   "execution_count": 89,
   "metadata": {},
   "outputs": [],
   "source": [
    "target=pd.DataFrame({'y':cleantargets.y,'x':cleantargets.x,'target':np.zeros(len(cleandata))})\n",
    "for i in range(0,len(colors)):\n",
    "    target.loc[(cleantargets.loc[:,'red']==colors[i,0])&(cleantargets.loc[:,'green']==colors[i,1])&(cleantargets.loc[:,'blue']==colors[i,2]),'target']=i\n",
    "target.loc[target.target==3]=2"
   ]
  },
  {
   "cell_type": "code",
   "execution_count": 90,
   "metadata": {},
   "outputs": [
    {
     "data": {
      "text/plain": [
       "5.0    938720\n",
       "6.0    909350\n",
       "0.0     43960\n",
       "1.0     23864\n",
       "2.0     11675\n",
       "4.0     10792\n",
       "7.0      5362\n",
       "Name: target, dtype: int64"
      ]
     },
     "execution_count": 90,
     "metadata": {},
     "output_type": "execute_result"
    }
   ],
   "source": [
    "target.target.value_counts()"
   ]
  },
  {
   "cell_type": "code",
   "execution_count": 103,
   "metadata": {},
   "outputs": [],
   "source": [
    "x_train_all, x_validate, y_train_all, y_validate = model_selection.train_test_split(cleandata.loc[:,'red':'blue'], target.target, test_size=0.1)\n",
    "\n",
    "# now split the training data further into training and testing\n",
    "x_train, x_test, y_train, y_test = model_selection.train_test_split(x_train_all, y_train_all, test_size=0.2)"
   ]
  },
  {
   "cell_type": "code",
   "execution_count": 106,
   "metadata": {},
   "outputs": [],
   "source": [
    "from sklearn.naive_bayes import GaussianNB\n",
    "gnb = GaussianNB()\n",
    "modelGNB=gnb.fit(x_train, y_train)\n",
    "y_pred = modelGNB.predict(x_test)"
   ]
  },
  {
   "cell_type": "code",
   "execution_count": 107,
   "metadata": {},
   "outputs": [
    {
     "name": "stdout",
     "output_type": "stream",
     "text": [
      "0.8801612027324435\n"
     ]
    }
   ],
   "source": [
    "score = accuracy_score(y_test, y_pred)\n",
    "print(score)"
   ]
  },
  {
   "cell_type": "code",
   "execution_count": 108,
   "metadata": {},
   "outputs": [
    {
     "data": {
      "application/vnd.jupyter.widget-view+json": {
       "model_id": "b8a3100dfb0247ac8bbd1fbcdecf233b",
       "version_major": 2,
       "version_minor": 0
      },
      "text/plain": [
       "Canvas(toolbar=Toolbar(toolitems=[('Home', 'Reset original view', 'home', 'home'), ('Back', 'Back to previous …"
      ]
     },
     "metadata": {},
     "output_type": "display_data"
    },
    {
     "data": {
      "text/plain": [
       "Text(0.5, 36.72222222222221, 'predicted label')"
      ]
     },
     "execution_count": 108,
     "metadata": {},
     "output_type": "execute_result"
    }
   ],
   "source": [
    "plt.figure()\n",
    "mat = confusion_matrix(y_test, y_pred)\n",
    "sns.heatmap(mat, annot=True, fmt='d', cbar=True) \n",
    "plt.ylabel('true label')\n",
    "plt.xlabel('predicted label')"
   ]
  },
  {
   "cell_type": "code",
   "execution_count": 126,
   "metadata": {},
   "outputs": [],
   "source": [
    "from sklearn.ensemble import RandomForestClassifier\n",
    "RFclf=RandomForestClassifier(max_depth=10,n_estimators=600)\n",
    "datafilter=np.random.choice(a=[False, True], size= len(y_train), p=[0.98, 0.02])\n",
    "modelRF=RFclf.fit(x_train.loc[datafilter,:],y_train.loc[datafilter])"
   ]
  },
  {
   "cell_type": "code",
   "execution_count": 128,
   "metadata": {},
   "outputs": [],
   "source": [
    "y_pred = modelRF.predict(x_test)"
   ]
  },
  {
   "cell_type": "code",
   "execution_count": 129,
   "metadata": {
    "scrolled": true
   },
   "outputs": [
    {
     "name": "stdout",
     "output_type": "stream",
     "text": [
      "0.9417869494383628\n"
     ]
    }
   ],
   "source": [
    "score = accuracy_score(y_test, y_pred)\n",
    "print(score)"
   ]
  },
  {
   "cell_type": "code",
   "execution_count": 130,
   "metadata": {},
   "outputs": [
    {
     "data": {
      "application/vnd.jupyter.widget-view+json": {
       "model_id": "db2e58758bf3431cac0d960e5521f406",
       "version_major": 2,
       "version_minor": 0
      },
      "text/plain": [
       "Canvas(toolbar=Toolbar(toolitems=[('Home', 'Reset original view', 'home', 'home'), ('Back', 'Back to previous …"
      ]
     },
     "metadata": {},
     "output_type": "display_data"
    },
    {
     "data": {
      "text/plain": [
       "Text(0.5, 36.72222222222221, 'predicted label')"
      ]
     },
     "execution_count": 130,
     "metadata": {},
     "output_type": "execute_result"
    }
   ],
   "source": [
    "plt.figure()\n",
    "mat = confusion_matrix(y_test, y_pred)\n",
    "sns.heatmap(mat, annot=True, fmt='d', cbar=True) \n",
    "plt.ylabel('true label')\n",
    "plt.xlabel('predicted label')"
   ]
  },
  {
   "cell_type": "code",
   "execution_count": null,
   "metadata": {},
   "outputs": [],
   "source": []
  }
 ],
 "metadata": {
  "kernelspec": {
   "display_name": "Python 3",
   "language": "python",
   "name": "python3"
  },
  "language_info": {
   "codemirror_mode": {
    "name": "ipython",
    "version": 3
   },
   "file_extension": ".py",
   "mimetype": "text/x-python",
   "name": "python",
   "nbconvert_exporter": "python",
   "pygments_lexer": "ipython3",
   "version": "3.8.8"
  }
 },
 "nbformat": 4,
 "nbformat_minor": 4
}
